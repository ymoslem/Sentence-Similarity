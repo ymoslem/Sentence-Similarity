{
 "cells": [
  {
   "cell_type": "code",
   "execution_count": 1,
   "id": "1c374a7a",
   "metadata": {},
   "outputs": [
    {
     "name": "stdout",
     "output_type": "stream",
     "text": [
      "0,1\n"
     ]
    }
   ],
   "source": [
    "%%bash\n",
    "CUDA_VISIBLE_DEVICES=0,1\n",
    "echo $CUDA_VISIBLE_DEVICES"
   ]
  },
  {
   "cell_type": "code",
   "execution_count": 2,
   "id": "cbff4445",
   "metadata": {},
   "outputs": [
    {
     "name": "stdout",
     "output_type": "stream",
     "text": [
      "100000 100000\n"
     ]
    }
   ],
   "source": [
    "source_file_path = \"fr_100k.train\"\n",
    "target_file_path = \"en_100k.train\"\n",
    "\n",
    "with open(source_file_path, \"r\") as source_file, open(target_file_path, \"r\") as target_file:\n",
    "    source = []\n",
    "    target = []\n",
    "    \n",
    "    for src, tgt in zip(source_file, target_file):\n",
    "        source.append(src)\n",
    "        target.append(tgt)\n",
    "\n",
    "print(len(source), len(target))"
   ]
  },
  {
   "cell_type": "code",
   "execution_count": 3,
   "id": "8025175e",
   "metadata": {},
   "outputs": [],
   "source": [
    "from sentence_transformers import SentenceTransformer\n",
    "\n",
    "# Download the model "distiluse-base-multilingual-cased-v1" or "paraphrase-multilingual-MiniLM-L12-v2" \n",
    "model_name = \"distiluse-base-multilingual-cased-v1\"\n",
    "model = SentenceTransformer(model_name, device=\"cuda\", cache_folder=\".\")\n",
    "\n",
    "# Use a local model\n",
    "# model_name = \"./sentence-transformers_distiluse-base-multilingual-cased-v1\"\n",
    "# model = SentenceTransformer(model_name, device=\"cuda\")"
   ]
  },
  {
   "cell_type": "code",
   "execution_count": 4,
   "id": "1795023a",
   "metadata": {},
   "outputs": [
    {
     "name": "stdout",
     "output_type": "stream",
     "text": [
      "(100000, 512)\n",
      "(100000, 512)\n",
      "CPU times: user 509 ms, sys: 393 ms, total: 902 ms\n",
      "Wall time: 1min 4s\n"
     ]
    }
   ],
   "source": [
    "%%time\n",
    "\n",
    "# One GPU\n",
    "# sentence_vecs = model.encode(source, batch_size=2048, device=\"cuda\")\n",
    "\n",
    "# Multiple GPUs\n",
    "pool = model.start_multi_process_pool()\n",
    "\n",
    "sentence_vecs_source = model.encode_multi_process(source, pool=pool, batch_size=1024)\n",
    "print(sentence_vecs_source.shape)\n",
    "\n",
    "sentence_vecs_target = model.encode_multi_process(target, pool=pool, batch_size=1024)\n",
    "print(sentence_vecs_target.shape)"
   ]
  },
  {
   "cell_type": "code",
   "execution_count": 5,
   "id": "6ec6b9ba",
   "metadata": {},
   "outputs": [
    {
     "name": "stderr",
     "output_type": "stream",
     "text": [
      "/usr/lib/python3.7/multiprocessing/semaphore_tracker.py:144: UserWarning: semaphore_tracker: There appear to be 1 leaked semaphores to clean up at shutdown\n",
      "  len(cache))\n",
      "/usr/lib/python3.7/multiprocessing/semaphore_tracker.py:144: UserWarning: semaphore_tracker: There appear to be 1 leaked semaphores to clean up at shutdown\n",
      "  len(cache))\n"
     ]
    }
   ],
   "source": [
    "import os\n",
    "\n",
    "os.environ['PYTHONWARNINGS'] = 'ignore:semaphore_tracker:UserWarning'\n",
    "\n",
    "# Stope the process\n",
    "model.stop_multi_process_pool(pool)"
   ]
  },
  {
   "cell_type": "code",
   "execution_count": 6,
   "id": "bd905cb8",
   "metadata": {},
   "outputs": [
    {
     "name": "stdout",
     "output_type": "stream",
     "text": [
      "Sentences to be removed: 16952/100000\n"
     ]
    },
    {
     "data": {
      "text/plain": [
       "[{'index': 1,\n",
       "  'source': 'Health Behaviour in School-aged Children (HBSC) study:',\n",
       "  'target': 'rnational Report from the 2001/2002 Sur'},\n",
       " {'index': 8,\n",
       "  'source': 'M. Awad (Égypte) dit que selon l &apos; interprétation de sa délégation, le paragraphe 9 de la résolution 60/180 de l &apos; Assemblée générale vise les réunions de la Commission dans toutes ses configurations.',\n",
       "  'target': 'institutional donors should not be invited automatically, but on a case-by-case basis according to whether such participation was deemed appropriate and necessary by the Commit'},\n",
       " {'index': 13,\n",
       "  'source': 'Les bureaux du HCR travailleront avec leurs homologues gouvernementaux et non gouvernementaux pour effectuer des évaluations participatives avec les femmes, les hommes, les garçons et les filles réfugiés afin de promouvoir une meilleure compréhension des risques encourus en matière de protection par ces populations et pour obtenir un soutien en vue d &apos; élaborer des solutions de protection.',\n",
       "  'target': ') Strengthening protection within broader migration movements (GSO 1.3): creative efforts will be needed to explore practical applications of migration principles that can enhance refugee protection, for example by looking at how positive and forward-looking migration policies can contribute to managing forced displacement compone'},\n",
       " {'index': 15,\n",
       "  'source': 'Elle se réjouit de la volonté du Gouvernement salvadorien de lutter contre la violence à l &apos; encontre des enfants résultant de la violence armée et de la criminalité organisée et a confiance que la communauté internationale restera désireuse de soutenir son action.',\n",
       "  'target': 'c social services were essential, particularly for the most disadvantaged populations, whose lack of alternatives left them particularly vulnerable to manipulation by organized criminal gro'},\n",
       " {'index': 19,\n",
       "  'source': '2. Le rapport ci-après complète, au 31 janvier 2002, les données déjà fournies.',\n",
       "  'target': 'launches were made from the territory of the United States unless otherwise specif'},\n",
       " {'index': 20,\n",
       "  'source': 'b) Soumettre toute affaire pour laquelle un procès est sur le point d &apos; être entamé à un processus d &apos; examen préalable mené par des substituts du Procureur avec d &apos; autres membres du personnel du Bureau du Procureur.',\n",
       "  'target': 'aim is to ensure that the case is truly ready when the trial date arrives and there are no avoidable impediments which may contribute to postponement or de'},\n",
       " {'index': 27,\n",
       "  'source': 'o à accroître la cohérence des politiques et leur coordination au sein du Portefeuille;',\n",
       "  'target': 'his end, the Department advises and assists the Solicitor General'},\n",
       " {'index': 30,\n",
       "  'source': \"Cette aide stabilise les prix en aidant les producteurs à retirer un produit du marché temporairement. Dans le cas du beurre, elle o re également une alternative à l'intervention.\",\n",
       "  'target': 'e will be three annual increases of 0.5% of quota volumes for 11 of the EU-15 Member States beginning in 2006 (Greece, Ireland and North Ireland, Italy and Spain are the exceptions as they benefit from earlier quota increas'},\n",
       " {'index': 31,\n",
       "  'source': '1. La troisième session du Groupe de travail spécial du protocole à la Convention sur l &apos; évaluation de l &apos; impact sur l &apos; environnement dans un contexte transfrontière, relatif à l &apos; évaluation de l &apos; impact sur l &apos; environnement des décisions stratégiques s &apos; est tenue à Orvieto (Italie) du 21 au 23 novembre 2001.',\n",
       "  'target': 'as attended by the delegations of: Albania, Austria, Belgium, Canada, Czech Republic, Denmark, Estonia, Finland, France, Georgia, Germany, Greece, Hungary, Italy, Latvia, Lithuania, Netherlands, Norway, Poland, Romania, Slovakia, Spain, Sweden, Switzerland, the former Yugoslav Republic of Macedonia, Turkey, Ukraine, United Kingdom, Uzbekistan and Yugosla'},\n",
       " {'index': 34,\n",
       "  'source': 'Les États arabes d &apos; Afrique reçoivent une aide pour la restructuration et la modernisation de secteurs industriels prioritaires, l &apos; accent étant mis sur les agro-industries, et cette initiative a été soutenue par un réseau d &apos; unités de promotion des investissements.',\n",
       "  'target': 'e capacity-building through strengthening of national institutions related to standards, metrology, testing and quality was the objective of regional programmes for South Asian LDCs, the Mekong Delta countries and the member countries of the Economic Cooperation Organization (E'}]"
      ]
     },
     "execution_count": 6,
     "metadata": {},
     "output_type": "execute_result"
    }
   ],
   "source": [
    "# Test to find the right threshold percentage\n",
    "# This extracts *dissimilar* sentences (< threshold)\n",
    "\n",
    "from sentence_transformers.util import pytorch_cos_sim\n",
    "\n",
    "threshold = 0.50\n",
    "index = 0\n",
    "sentences = []\n",
    "\n",
    "for source_vec, target_vec in zip(sentence_vecs_source, sentence_vecs_target):\n",
    "    similarity = pytorch_cos_sim(source_vec, target_vec)\n",
    "    \n",
    "    # test\n",
    "    if similarity < threshold:\n",
    "        sentences.append({\n",
    "        \"index\": index,\n",
    "        \"source\": source[index].strip(),\n",
    "        \"target\": target[index].strip()[4:-4]\n",
    "        })\n",
    "\n",
    "    index += 1\n",
    "\n",
    "print(\"Sentences to be removed: \" + str(len(sentences)) + \"/\" + str(len(source)))\n",
    "sentences[0:10]"
   ]
  },
  {
   "cell_type": "code",
   "execution_count": 7,
   "id": "f28642ca",
   "metadata": {},
   "outputs": [],
   "source": [
    "del sentences"
   ]
  },
  {
   "cell_type": "code",
   "execution_count": 8,
   "id": "2605d30a",
   "metadata": {},
   "outputs": [
    {
     "name": "stdout",
     "output_type": "stream",
     "text": [
      "Done!\n",
      "CPU times: user 11 s, sys: 1.27 s, total: 12.3 s\n",
      "Wall time: 12.3 s\n"
     ]
    }
   ],
   "source": [
    "%%time\n",
    "\n",
    "# Find similar sentences (> threshold) and save to files\n",
    "\n",
    "from sentence_transformers.util import pytorch_cos_sim\n",
    "\n",
    "threshold = 0.50\n",
    "index = 0\n",
    "\n",
    "for source_vec, target_vec in zip(sentence_vecs_source, sentence_vecs_target):\n",
    "    similarity = pytorch_cos_sim(source_vec, target_vec)\n",
    "    \n",
    "    # Save to the source and target to files\n",
    "    with open(\"new_source\", \"a+\") as new_source_file, open(\"new_target\", \"a+\") as new_target_file:\n",
    "        if similarity > threshold:\n",
    "            new_source_file.write(source[index].strip() + \"\\n\")\n",
    "            new_target_file.write(target[index].strip() + \"\\n\")\n",
    "    \n",
    "    index += 1\n",
    "\n",
    "print(\"Done!\")"
   ]
  },
  {
   "cell_type": "code",
   "execution_count": 9,
   "id": "9750126a",
   "metadata": {},
   "outputs": [
    {
     "name": "stdout",
     "output_type": "stream",
     "text": [
      "166097 new_source\n",
      "166097 new_target\n"
     ]
    }
   ],
   "source": [
    "%%bash\n",
    "\n",
    "wc -l new_source\n",
    "wc -l new_target"
   ]
  },
  {
   "cell_type": "markdown",
   "id": "d12be0c9",
   "metadata": {},
   "source": [
    "---\n",
    "\n",
    "`paraphrase_mining`: Given a list of sentences / texts, this function performs paraphrase mining. It compares all sentences against all other sentences and returns a list with the pairs that have the highest cosine similarity score."
   ]
  },
  {
   "cell_type": "code",
   "execution_count": 4,
   "id": "90f79e0d",
   "metadata": {
    "scrolled": false
   },
   "outputs": [
    {
     "data": {
      "application/vnd.jupyter.widget-view+json": {
       "model_id": "145eeb30b1fd4e1caced150b124b9234",
       "version_major": 2,
       "version_minor": 0
      },
      "text/plain": [
       "Batches:   0%|          | 0/98 [00:00<?, ?it/s]"
      ]
     },
     "metadata": {},
     "output_type": "display_data"
    }
   ],
   "source": [
    "from sentence_transformers.util import paraphrase_mining\n",
    "\n",
    "matches = paraphrase_mining(model, source, show_progress_bar=True, batch_size=1024)"
   ]
  },
  {
   "cell_type": "code",
   "execution_count": 5,
   "id": "e47e7a9d",
   "metadata": {},
   "outputs": [
    {
     "data": {
      "text/plain": [
       "[[1.0000730752944946, 64651, 88559],\n",
       " [1.0000413656234741, 26774, 44160],\n",
       " [1.000030279159546, 38755, 67730],\n",
       " [1.0000276565551758, 60998, 68587],\n",
       " [1.000025749206543, 3979, 45992],\n",
       " [1.000025749206543, 3979, 86883],\n",
       " [1.000025749206543, 45992, 86883],\n",
       " [1.0000250339508057, 56640, 63472],\n",
       " [1.0000232458114624, 36723, 42590],\n",
       " [1.0000182390213013, 60921, 73270],\n",
       " [1.0000176429748535, 29552, 83310],\n",
       " [1.0000171661376953, 54247, 75481],\n",
       " [1.000014066696167, 59521, 80373],\n",
       " [1.0000070333480835, 323, 23393],\n",
       " [1.0000027418136597, 47488, 71623],\n",
       " [1.0000022649765015, 57169, 82648],\n",
       " [1.0000019073486328, 66802, 92478],\n",
       " [1.0000009536743164, 32888, 92985],\n",
       " [0.9999977350234985, 57379, 78992],\n",
       " [0.9999964237213135, 5881, 36097],\n",
       " [0.9999959468841553, 52371, 58463],\n",
       " [0.9999957084655762, 3135, 44866],\n",
       " [0.9999957084655762, 3135, 88303],\n",
       " [0.9999957084655762, 44866, 88303],\n",
       " [0.9999947547912598, 27451, 88857],\n",
       " [0.9999940991401672, 5615, 28899],\n",
       " [0.9999938607215881, 34654, 58828],\n",
       " [0.999991238117218, 10456, 96755],\n",
       " [0.9999874234199524, 78442, 91587],\n",
       " [0.9999873042106628, 563, 68748],\n",
       " [0.9999867081642151, 33083, 98352],\n",
       " [0.9999866485595703, 62096, 93180],\n",
       " [0.9999856352806091, 17754, 94362],\n",
       " [0.999981701374054, 9002, 95892],\n",
       " [0.9999807476997375, 1587, 43999],\n",
       " [0.9999756813049316, 24151, 91985],\n",
       " [0.9999707341194153, 12783, 54721],\n",
       " [0.9999707341194153, 21574, 44212],\n",
       " [0.999965250492096, 28098, 54832],\n",
       " [0.9999648928642273, 22287, 98034],\n",
       " [0.9999647736549377, 70084, 99568],\n",
       " [0.9999634623527527, 34332, 61459],\n",
       " [0.9999542832374573, 35868, 58857],\n",
       " [0.9999523162841797, 764, 15137],\n",
       " [0.9999523162841797, 764, 87619],\n",
       " [0.9999523162841797, 15137, 87619],\n",
       " [0.9999443292617798, 7795, 53731],\n",
       " [0.9999443292617798, 7795, 83248],\n",
       " [0.9999443292617798, 53731, 83248],\n",
       " [0.9999256730079651, 5860, 6256],\n",
       " [0.9991530776023865, 20471, 49202],\n",
       " [0.9984138607978821, 4550, 49202],\n",
       " [0.9983249306678772, 4550, 20471],\n",
       " [0.9981733560562134, 25454, 69965],\n",
       " [0.996880829334259, 7198, 52449],\n",
       " [0.9962837100028992, 8981, 38708],\n",
       " [0.994176983833313, 31913, 80223],\n",
       " [0.9938883781433105, 36018, 41307],\n",
       " [0.9935483336448669, 56095, 71794],\n",
       " [0.9927430152893066, 55467, 99608],\n",
       " [0.991314172744751, 37098, 39248],\n",
       " [0.990761935710907, 946, 6953],\n",
       " [0.9904056787490845, 19984, 82609],\n",
       " [0.9896170496940613, 77237, 92249],\n",
       " [0.9891778826713562, 3135, 7818],\n",
       " [0.9891778826713562, 7818, 44866],\n",
       " [0.9891778826713562, 7818, 88303],\n",
       " [0.9885625243186951, 1225, 69844],\n",
       " [0.9881467819213867, 32373, 71213],\n",
       " [0.9877859354019165, 78386, 95640],\n",
       " [0.9870180487632751, 24756, 74901],\n",
       " [0.9854331016540527, 36, 72802],\n",
       " [0.9853774309158325, 57051, 83000],\n",
       " [0.9847571849822998, 37438, 80059],\n",
       " [0.9847379922866821, 15563, 51152],\n",
       " [0.9844781160354614, 25729, 73343],\n",
       " [0.9840717911720276, 71794, 92135],\n",
       " [0.9819955229759216, 35049, 70979],\n",
       " [0.9814848303794861, 64258, 78796],\n",
       " [0.9795838594436646, 72122, 96634],\n",
       " [0.9785208702087402, 5520, 19882],\n",
       " [0.977803647518158, 13809, 19583],\n",
       " [0.9771455526351929, 56095, 92135],\n",
       " [0.9769227504730225, 55467, 58410],\n",
       " [0.9767398238182068, 58410, 99608],\n",
       " [0.9763579964637756, 29647, 56029],\n",
       " [0.9750555753707886, 53627, 63038],\n",
       " [0.9750295877456665, 45566, 48711],\n",
       " [0.9750273823738098, 34458, 48782],\n",
       " [0.9748760461807251, 9468, 91569],\n",
       " [0.9742502570152283, 28257, 98036],\n",
       " [0.9740991592407227, 57051, 77748],\n",
       " [0.9737157821655273, 4573, 96126],\n",
       " [0.9736173748970032, 12454, 91569],\n",
       " [0.9717020988464355, 20383, 87055],\n",
       " [0.9715685248374939, 10383, 58099],\n",
       " [0.9701420068740845, 20383, 77374],\n",
       " [0.9699766039848328, 71441, 92731],\n",
       " [0.969797670841217, 64782, 69387],\n",
       " [0.9697086215019226, 13823, 78717]]"
      ]
     },
     "execution_count": 5,
     "metadata": {},
     "output_type": "execute_result"
    }
   ],
   "source": [
    "matches [:100]"
   ]
  },
  {
   "cell_type": "code",
   "execution_count": 110,
   "id": "b36bb8d7",
   "metadata": {},
   "outputs": [
    {
     "name": "stdout",
     "output_type": "stream",
     "text": [
      "M. Jahangir (Rapporteure spéciale chargée d &apos; étudier la question de la liberté de religion ou de conviction), répondant aux questions posées, remercie le représentant de l &apos; Égypte des informations supplémentaires qu &apos; il a fournies.\n",
      " M. Jahangir (Rapporteure spéciale chargée d'étudier la question de la liberté de religion ou de conviction), répondant aux questions posées, remercie le représentant de l'Égypte des informations supplémentaires qu'il a fournies.\n",
      "\n",
      "With respect to the question posed by the representative of Canada concerning registration, she said that it was a contentious issue which required deeper consideration on her part.\n",
      " Ms. Jahangir (Special Rapporteur on freedom of religion or belief), responding to questions, thanked the representative of Egypt for the additional information he had provided.\n",
      "\n"
     ]
    }
   ],
   "source": [
    "print(source[13823], source[78717])  #96% match. Small difference in the source \n",
    "print(target[13823], target[78717])"
   ]
  },
  {
   "cell_type": "code",
   "execution_count": 102,
   "id": "aed4bf38",
   "metadata": {},
   "outputs": [
    {
     "data": {
      "text/plain": [
       "[[0.8463038802146912, 55631, 85074],\n",
       " [0.8462938070297241, 20317, 55363],\n",
       " [0.8462923169136047, 32925, 95446],\n",
       " [0.8462888598442078, 20093, 71970],\n",
       " [0.8462702631950378, 26227, 65832],\n",
       " [0.846261739730835, 38006, 77517],\n",
       " [0.8462615609169006, 37887, 55631],\n",
       " [0.8461955785751343, 4441, 69929],\n",
       " [0.8461834788322449, 42637, 91011],\n",
       " [0.8461257219314575, 32531, 84474]]"
      ]
     },
     "execution_count": 102,
     "metadata": {},
     "output_type": "execute_result"
    }
   ],
   "source": [
    "matches [1000:1010]"
   ]
  },
  {
   "cell_type": "code",
   "execution_count": 107,
   "id": "5fbba710",
   "metadata": {},
   "outputs": [
    {
     "name": "stdout",
     "output_type": "stream",
     "text": [
      "C'est magnifique!\n",
      " C'est magnifique !\n",
      "\n",
      "Proposition de directive du Conseil instituant un processus de convergence de la taxe sur la valeur ajoutée et des accises.\n",
      " Proposition de directive du Conseil instituant un processus de convergence de la taxe sur la valeur ajoutée et des accises.\n",
      "\n",
      "10 à 13 heures 1re séance Salle de conférence 5\n",
      " 10 à 13 heures 5e séance (privée) Salle de conférence 1\n",
      "\n",
      "Je vous serais reconnaissant de bien vouloir faire distribuer le texte de la présente lettre et du rapport ci-joint en tant que document du Conseil de sécurité.\n",
      " Je vous serais obligé de bien vouloir faire distribuer la présente lettre ainsi que son annexe comme document du Conseil de sécurité.\n",
      "\n",
      "D'autres caractéristiques et avantages de l'invention ressortiront de la description détaillée qui en est donnée ci-dessous, à titre indicatif et nullement limitatif, en référence aux figures annexées, parmi lesquelles:\n",
      " D'autres caractéristiques, buts et avantages de la présente invention apparaitront à la lecture de la description détaillée qui va suivre, et en regard des dessins annexés donnés à titre d'exemples non limitatif et sur lesquels:\n",
      "\n",
      "Other features and advantages will be apparent from the detailed description provided below by way of indication and without being in any way restrictive, with reference to the appended figures, in which:\n",
      " Other characteristics, aims and advantages of the present invention will emerge from the following detailed description and with respect to the appended drawings given by way of non-limiting examples and in which:\n",
      "\n"
     ]
    }
   ],
   "source": [
    "print(source[64651], source[88559])\n",
    "print(source[26774], source[44160])\n",
    "print(source[19759], source[49922])\n",
    "print(source[3732], source[69295])\n",
    "print(source[38006], source[77517])\n",
    "print(target[38006], target[77517])"
   ]
  },
  {
   "cell_type": "code",
   "execution_count": 95,
   "id": "4ac6132d",
   "metadata": {
    "scrolled": true
   },
   "outputs": [
    {
     "name": "stdout",
     "output_type": "stream",
     "text": [
      "(0, 'Je vous serais ')\n",
      "(-1, 'reconnaissant de bien vésente lettre et du rapport ci-joint e')\n",
      "(1, 'obligé de bien vouloir faire distribuer la présente lettre ainsi que so')\n",
      "(0, 'n ')\n",
      "(-1, 't')\n",
      "(0, 'an')\n",
      "(-1, 't qu')\n",
      "(1, 'nexe comm')\n",
      "(0, 'e document du Conseil de sécurité.')\n"
     ]
    }
   ],
   "source": [
    "import diff_match_patch as dmp_module\n",
    "\n",
    "text1 = \"Je vous serais reconnaissant de bien vésente lettre et du rapport ci-joint en tant que document du Conseil de sécurité.\"\n",
    "text2 = \"Je vous serais obligé de bien vouloir faire distribuer la présente lettre ainsi que son annexe comme document du Conseil de sécurité.\"\n",
    "dmp = dmp_module.diff_match_patch()\n",
    "diff = dmp.diff_main(text1, text2)\n",
    "\n",
    "dmp.diff_cleanupSemantic(diff)\n",
    "print(*diff, sep=\"\\n\")"
   ]
  },
  {
   "cell_type": "markdown",
   "id": "b925ca6e",
   "metadata": {},
   "source": [
    "---\n",
    "\n",
    "`semantic_search`: This function performs a cosine similarity search between a list of query embeddings and a list of corpus embeddings. It can be used for Information Retrieval / Semantic Search for corpora up to about 1 Million entries."
   ]
  },
  {
   "cell_type": "code",
   "execution_count": 6,
   "id": "bf670a98",
   "metadata": {},
   "outputs": [
    {
     "name": "stdout",
     "output_type": "stream",
     "text": [
      "{'corpus_id': 100, 'score': 0.8339463472366333}\n",
      "{'corpus_id': 97286, 'score': 0.45152443647384644}\n",
      "{'corpus_id': 34490, 'score': 0.4217519760131836}\n",
      "{'corpus_id': 8900, 'score': 0.3907952904701233}\n",
      "{'corpus_id': 13685, 'score': 0.39006367325782776}\n",
      "Certains groups de pression s'inquiètent de la façon dont la révision actuelle de la LCPE 1999 affectera le processus d'examen et le nouveau règlement.\n",
      "\n",
      "Source ID:\n",
      "100\n",
      "Target ID:\n",
      "100\n",
      "Score:\n",
      "0.8339463472366333\n",
      "Best Match:\n",
      "Certains groups de pression s'inquiètent de la façon dont la révision actuelle de la LCPE 1999 affectera le processus d'examen et le nouveau règlement.\n",
      "\n"
     ]
    }
   ],
   "source": [
    "from sentence_transformers.util import semantic_search\n",
    "\n",
    "source_id = 100\n",
    "\n",
    "similar = semantic_search(sentence_vecs_source[source_id], sentence_vecs_target[:], corpus_chunk_size=1024, top_k=5)\n",
    "print(*similar[0], sep=\"\\n\")\n",
    "\n",
    "print(source[source_id])\n",
    "print(\"Source ID:\", source_id,\n",
    "      \"Target ID:\", similar[0][0][\"corpus_id\"],\n",
    "      \"Score:\", similar[0][0][\"score\"], \n",
    "      \"Best Match:\", source[similar[0][0][\"corpus_id\"]], sep=\"\\n\")"
   ]
  },
  {
   "cell_type": "raw",
   "id": "b8f39ecc",
   "metadata": {},
   "source": []
  },
  {
   "cell_type": "code",
   "execution_count": 7,
   "id": "d1cb492b",
   "metadata": {},
   "outputs": [
    {
     "name": "stdout",
     "output_type": "stream",
     "text": [
      "{'corpus_id': 110, 'score': 0.8128122091293335}\n",
      "{'corpus_id': 38618, 'score': 0.3313034772872925}\n",
      "{'corpus_id': 1354, 'score': 0.32852187752723694}\n",
      "{'corpus_id': 99462, 'score': 0.3232432007789612}\n",
      "{'corpus_id': 97689, 'score': 0.322838693857193}\n",
      "Cependant, le Japon a étudié chaque incidence en fonction de la couleur, entre le rouge et le jaune auto.\n",
      "\n",
      "Source ID:\n",
      "110\n",
      "Target ID:\n",
      "110\n",
      "Score:\n",
      "0.8128122091293335\n",
      "Best Match:\n",
      "However, Japan has investigated each effect on the color between red and amber.\n",
      "\n"
     ]
    }
   ],
   "source": [
    "from sentence_transformers.util import semantic_search\n",
    "\n",
    "source_id = 110\n",
    "\n",
    "similar = semantic_search(sentence_vecs_source[source_id], sentence_vecs_target, corpus_chunk_size=1024, top_k=5)\n",
    "print(*similar[0], sep=\"\\n\")\n",
    "\n",
    "print(source[source_id])\n",
    "print(\"Source ID:\", source_id,\n",
    "      \"Target ID:\", similar[0][0][\"corpus_id\"],\n",
    "      \"Score:\", similar[0][0][\"score\"], \n",
    "      \"Best Match:\", target[similar[0][0][\"corpus_id\"]], sep=\"\\n\")"
   ]
  },
  {
   "cell_type": "code",
   "execution_count": null,
   "id": "01264c01",
   "metadata": {},
   "outputs": [],
   "source": []
  }
 ],
 "metadata": {
  "kernelspec": {
   "display_name": "Python 3 (ipykernel)",
   "language": "python",
   "name": "python3"
  },
  "language_info": {
   "codemirror_mode": {
    "name": "ipython",
    "version": 3
   },
   "file_extension": ".py",
   "mimetype": "text/x-python",
   "name": "python",
   "nbconvert_exporter": "python",
   "pygments_lexer": "ipython3",
   "version": "3.7.5"
  }
 },
 "nbformat": 4,
 "nbformat_minor": 5
}
