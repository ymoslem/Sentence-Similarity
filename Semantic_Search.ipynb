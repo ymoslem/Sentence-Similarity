{
 "cells": [
  {
   "cell_type": "markdown",
   "id": "ca20c00d",
   "metadata": {},
   "source": [
    "# Semantic Search\n",
    "\n",
    "Reference and more details: https://www.sbert.net/examples/applications/semantic-search/README.html"
   ]
  },
  {
   "cell_type": "code",
   "execution_count": 1,
   "id": "7e142770",
   "metadata": {
    "ExecuteTime": {
     "end_time": "2022-08-03T21:24:29.637283Z",
     "start_time": "2022-08-03T21:24:29.015516Z"
    }
   },
   "outputs": [],
   "source": [
    "import json\n",
    "import os\n",
    "\n",
    "output_dir = \"output\"\n",
    "json_files = [file_name for file_name in os.listdir(output_dir) if file_name.endswith(\".json\")]\n",
    "\n",
    "corpus = []\n",
    "\n",
    "for json_file in json_files:\n",
    "    with open(os.path.join(output_dir,json_file)) as json_input:\n",
    "        json_content = json.load(json_input)\n",
    "        for item in json_content:\n",
    "            url = item[\"url\"]\n",
    "            text_paragraphs = item[\"text\"].split(\"\\n\")\n",
    "            text_paragraphs = [(para, json_file[:-5], item[\"topic\"], item[\"url\"]) for para in text_paragraphs if len(para.split())>10 \\\n",
    "                               and (para, json_file[:-5], item[\"topic\"], item[\"url\"]) not in corpus]\n",
    "            corpus += text_paragraphs\n",
    "            "
   ]
  },
  {
   "cell_type": "code",
   "execution_count": 2,
   "id": "cb10eedd",
   "metadata": {
    "ExecuteTime": {
     "end_time": "2022-08-03T21:24:29.906234Z",
     "start_time": "2022-08-03T21:24:29.874086Z"
    }
   },
   "outputs": [
    {
     "data": {
      "text/plain": [
       "[('На інтерактивній мапі відображаються тільки діючі пункти пропуску. Пункти пропуску, що тимчасово закриті відповідно до розпорядження КМУ від 13.03.2020 року №288-р, на мапі не відображаються! (dpsu.gov.ua)',\n",
       "  'Польща',\n",
       "  'Загальна інформація',\n",
       "  'https://uahelpinfo.notion.site/ab8ea9a2a8f945f1b784e910d566ca79'),\n",
       " ('Telegram-канал Dorohusk - актуальна інформація про стан кордону, пошук трансфера, інша допомога',\n",
       "  'Польща',\n",
       "  'Загальна інформація',\n",
       "  'https://uahelpinfo.notion.site/ab8ea9a2a8f945f1b784e910d566ca79'),\n",
       " ('В’їзд до Польщі можливий на підставі будь-якого документу, що посвідчує особу (закордоний паспорт, внутрішнього посвідчення особи, або свідоцтва про народження для неповнолітніх)',\n",
       "  'Польща',\n",
       "  'Загальна інформація',\n",
       "  'https://uahelpinfo.notion.site/ab8ea9a2a8f945f1b784e910d566ca79'),\n",
       " ('Якщо ви перетинаєте кордон на машині потрібно мати Зелену карту. Її можна оформити в Приват 24 або в пункті надання допомоги одразу після перетину кордону. На місяць Зелена карта при перетині кордону надається безкоштовно.',\n",
       "  'Польща',\n",
       "  'Загальна інформація',\n",
       "  'https://uahelpinfo.notion.site/ab8ea9a2a8f945f1b784e910d566ca79'),\n",
       " ('Українці можуть перебувати у Польщі як туристи за біометричним паспортом на строк до 90 днів на підставі безвізового режиму з країнами Европи, які входять до Шенгенської зони. Але перебування у країні з туристичною метою обмежує вас у правах то допомозі, які надаються разом з отриманням інших правових статусів.',\n",
       "  'Польща',\n",
       "  'Загальна інформація',\n",
       "  'https://uahelpinfo.notion.site/ab8ea9a2a8f945f1b784e910d566ca79')]"
      ]
     },
     "execution_count": 2,
     "metadata": {},
     "output_type": "execute_result"
    }
   ],
   "source": [
    "corpus[0:5]"
   ]
  },
  {
   "cell_type": "code",
   "execution_count": 3,
   "id": "64fd242d",
   "metadata": {
    "ExecuteTime": {
     "end_time": "2022-08-03T21:24:41.057391Z",
     "start_time": "2022-08-03T21:24:30.769647Z"
    }
   },
   "outputs": [],
   "source": [
    "from sentence_transformers import SentenceTransformer\n",
    "\n",
    "corpus_sentences = [item[0] for item in corpus]\n",
    "\n",
    "embedder = SentenceTransformer(\"paraphrase-multilingual-MiniLM-L12-v2\")\n",
    "\n",
    "corpus_embeddings = embedder.encode(corpus_sentences, convert_to_tensor=True)"
   ]
  },
  {
   "cell_type": "code",
   "execution_count": 4,
   "id": "60c0b98a",
   "metadata": {
    "ExecuteTime": {
     "end_time": "2022-08-03T21:24:41.125279Z",
     "start_time": "2022-08-03T21:24:41.059171Z"
    }
   },
   "outputs": [],
   "source": [
    "# Save corpus_embeddings to a file to be able to load later\n",
    "import pickle\n",
    "\n",
    "with open(\"corpus_embeddings.pkl\", \"wb\") as embeddings:\n",
    "    pickle.dump({'corpus': corpus, 'embeddings': corpus_embeddings}, embeddings)\n",
    "\n",
    "\n",
    "# To load the embeddings later from the file instead of creating from scratch\n",
    "'''\n",
    "import pickle\n",
    "from sentence_transformers import SentenceTransformer\n",
    "\n",
    "with open(\"corpus_embeddings.pkl\", \"rb\") as embeddings:\n",
    "    data = pickle.load(embeddings)\n",
    "    corpus = data['corpus']\n",
    "    corpus_sentences = [item[0] for item in corpus]\n",
    "    corpus_embeddings = data['embeddings']\n",
    "    \n",
    "    embedder = SentenceTransformer(\"paraphrase-multilingual-MiniLM-L12-v2\")\n",
    "\n",
    "    corpus_embeddings = embedder.encode(corpus_sentences, convert_to_tensor=True)\n",
    "'''"
   ]
  },
  {
   "cell_type": "code",
   "execution_count": 7,
   "id": "04b95244",
   "metadata": {
    "ExecuteTime": {
     "end_time": "2022-08-03T21:27:17.715286Z",
     "start_time": "2022-08-03T21:27:17.586920Z"
    }
   },
   "outputs": [
    {
     "name": "stdout",
     "output_type": "stream",
     "text": [
      "• Query: Освіта\n",
      "• Top 20 most similar sentences in corpus:\n",
      "\n",
      "До яких державних та неурядових органів я можу звернутися за додатковою інформацією про освіту?\n",
      "Read more: Нідерланди -- Освіта та мовні курси https://uahelpinfo.notion.site/7f65b976009e4ec2b402c89d4f21702a\n",
      "[Score: 0.64] \n",
      "\n",
      "До яких державних та неурядових органів я можу звернутися за додатковою інформацією про освіту?\n",
      "Read more: Португалія -- Освіта та мовні курси https://uahelpinfo.notion.site/3dd45be7c4294f60ae7f8a63f641eedb\n",
      "[Score: 0.64] \n",
      "\n",
      "До яких державних та неурядових органів я можу звернутися за додатковою інформацією про освіту?\n",
      "Read more: Угорщина -- Освіта та мовні курси https://uahelpinfo.notion.site/492c534b8b654ad687b006b5627e5d5a\n",
      "[Score: 0.64] \n",
      "\n",
      "До яких державних та неурядових органів я можу звернутися за додатковою інформацією про освіту?\n",
      "Read more: Швеція -- Освіта та мовні курси https://uahelpinfo.notion.site/14c4eb3753f4441aab19e2abb8ab7832\n",
      "[Score: 0.64] \n",
      "\n",
      "До яких державних та неурядових органів я можу звернутися для отримання додаткової інформації про освіту?\n",
      "Read more: Румунія -- Діти https://uahelpinfo.notion.site/fed06d71d8764e9c828e73a9931801fc\n",
      "[Score: 0.62] \n",
      "\n",
      "До яких державних та неурядових органів я можу звернутися для отримання додаткової інформації про освіту?\n",
      "Read more: Словаччина -- Освіта та мовні курси https://uahelpinfo.notion.site/11b512af8a994b37a82691edc9faff9e\n",
      "[Score: 0.62] \n",
      "\n",
      "До яких державних та недержавних органів я можу звернутися для отримання додаткової інформації про освіту?\n",
      "Read more: Італія -- Освіта та мовні курси https://uahelpinfo.notion.site/ef817d93b7df4a399e103fbc2dc24c87\n",
      "[Score: 0.61] \n",
      "\n",
      "Міністерство освіти і науки Грузії : (+995 32) 2 200 220 (з питань початкової,середньої та вищої освіти)\n",
      "Read more: Грузія -- Освіта та мовні курси https://uahelpinfo.notion.site/c888a51f917849ddabcf6a33b73101db\n",
      "[Score: 0.60] \n",
      "\n",
      "Щоб отримати інформацію щодо отримання початкової та середньої освіти, зв'яжіться з Департаментами освіти у вашій федеральній землі. Щоб отримати інформацію щодо отримання вищої та середньої професійної освіти, зв'яжіться  безпосередньо з університетами.\n",
      "Read more: Австрія -- Освіта та мовні курси https://uahelpinfo.notion.site/c240136a43c54924ae2ad339029d29b8\n",
      "[Score: 0.59] \n",
      "\n",
      "Ministero dell'IstruzioneDGSIOS - UFFICIO IVProf.ssa Mariangela Di Gneotel. +39 06 5849 2950email: mariangela.digneo@posta.istruzione.it\n",
      "Read more: Італія -- Люди похилого віку або з інвалідністю https://uahelpinfo.notion.site/d04cff5f43644620a34cb33494b3a9af\n",
      "[Score: 0.58] \n",
      "\n",
      "— з України (Київ). Освіта вища педагогічна. Вчитель середньої школи, вихователь дитячого дошкільного закладу. Досвід роботи в сім'ях з дітьми від 3-х місць до молодшого шкільного віку. Вміє організувати режим дня та дозвілля малюків. Контактний номер: +48575692383. Вайбер: +38 067 367 80 26\n",
      "Read more: Польща -- Діти https://uahelpinfo.notion.site/f5d08ab0ede74deca82a634cfada6f0b\n",
      "[Score: 0.58] \n",
      "\n",
      "вільний доступ до повного пакету \"Слухач\" (1-11 класи) для самонавчання – повна шкільна програма від Центру Дистанційної Освіти \"Джерело\" https://cdo.org.ua/reg/\n",
      "Read more: Україна -- Діти https://uahelpinfo.notion.site/aeabb270f91e4e73b0700c2cc23fb8a6\n",
      "[Score: 0.56] \n",
      "\n",
      "Подальша освіта є безкоштовною або значною мірою субсидується. Курси призначені для підтримки учнів, зацікавлених в:\n",
      "Read more: Ірландія -- Діти https://uahelpinfo.notion.site/e9a61dd0b9c547cd98437c840b2fbaee\n",
      "[Score: 0.56] \n",
      "\n",
      "освітня ініціатива для учнів початкової та середньої школи України: від школи Базис разом з Viber-спільнотою Школа.інфо\n",
      "Read more: Україна -- Діти https://uahelpinfo.notion.site/aeabb270f91e4e73b0700c2cc23fb8a6\n",
      "[Score: 0.56] \n",
      "\n",
      "Матимете можливість брати участь у навчальному процесі (неповнолітні діти підлягають обов’язковому відвідуванню школи),\n",
      "Read more: Словаччина -- Загальна інформація https://uahelpinfo.notion.site/a5bd95bf78644ed99a904fd015ed7c2b\n",
      "[Score: 0.56] \n",
      "\n",
      "За законом у Англії діти віком від 5 до 16 років зобов’язані навчатись на денній формі навчання. Місцева влада, яка займається вами та вашою сім'єю, допоможе вам організувати навчальний процес.\n",
      "Read more: Великобританія -- Діти https://uahelpinfo.notion.site/eec596f759f64112893b0da0e6c85cff\n",
      "[Score: 0.56] \n",
      "\n",
      "Academic Work - пропонує рекрутерські послуги для молодих спеціалістів технічних спеціальностей, інформаційних технологій і будівництва. Він чудово підходить випускникам вишів і початківцям. Ви можете знайти там описи вакансій англійською мовою.\n",
      "Read more: Фінляндія -- Працевлаштування https://uahelpinfo.notion.site/0ce0d4e1c2814bab934bfe4bd6ff3e59\n",
      "[Score: 0.55] \n",
      "\n",
      "До яких урядових і неурядових організацій можна звернутися, щоб отримати додаткову інформації щодо отримання освіти?\n",
      "Read more: Австрія -- Освіта та мовні курси https://uahelpinfo.notion.site/c240136a43c54924ae2ad339029d29b8\n",
      "[Score: 0.55] \n",
      "\n",
      "Вони розподіляють дітей по школах, у яких є класи okan. Тут інфо:\n",
      "Read more: Бельгія -- Діти https://uahelpinfo.notion.site/f9a34a9135fb4c499e3e7642d2eee393\n",
      "[Score: 0.54] \n",
      "\n",
      "Початкові та середні навчальні заклади (якщо немає місця, дзвонити за телефоном 022201609)\n",
      "Read more: Молдова -- Діти https://uahelpinfo.notion.site/abcef6d6d91643d487159223ec94eba6\n",
      "[Score: 0.54] \n",
      "\n"
     ]
    }
   ],
   "source": [
    "from sentence_transformers import util\n",
    "import torch\n",
    "\n",
    "queries = [\"Освіта\"]  # Education\n",
    "\n",
    "# Find the closest 20 sentences of the corpus for each query sentence based on cosine similarity\n",
    "top_k = min(20, len(corpus_sentences))\n",
    "for query in queries:\n",
    "    query_embedding = embedder.encode(query, convert_to_tensor=True)\n",
    "\n",
    "    # We use cosine-similarity and torch.topk to find the highest 5 scores\n",
    "    cos_scores = util.cos_sim(query_embedding, corpus_embeddings)[0]\n",
    "    top_results = torch.topk(cos_scores, k=top_k)\n",
    "\n",
    "    print(\"• Query:\", query)\n",
    "    print(\"• Top 20 most similar sentences in corpus:\\n\")\n",
    "\n",
    "    for score, idx in zip(top_results[0], top_results[1]):\n",
    "        print(corpus[idx][0])\n",
    "        print(\"Read more:\", corpus[idx][1], \"--\", corpus[idx][2], corpus[idx][3])\n",
    "        print(\"[Score: {:.2f}]\".format(score), \"\\n\")"
   ]
  }
 ],
 "metadata": {
  "kernelspec": {
   "display_name": "Python 3 (ipykernel)",
   "language": "python",
   "name": "python3"
  },
  "language_info": {
   "codemirror_mode": {
    "name": "ipython",
    "version": 3
   },
   "file_extension": ".py",
   "mimetype": "text/x-python",
   "name": "python",
   "nbconvert_exporter": "python",
   "pygments_lexer": "ipython3",
   "version": "3.7.5"
  }
 },
 "nbformat": 4,
 "nbformat_minor": 5
}
