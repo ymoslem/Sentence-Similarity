{
  "nbformat": 4,
  "nbformat_minor": 0,
  "metadata": {
    "colab": {
      "provenance": [],
      "authorship_tag": "ABX9TyOb36F2Y3WsdvmguYXBlwko",
      "include_colab_link": true
    },
    "kernelspec": {
      "name": "python3",
      "display_name": "Python 3"
    },
    "language_info": {
      "name": "python"
    }
  },
  "cells": [
    {
      "cell_type": "markdown",
      "metadata": {
        "id": "view-in-github",
        "colab_type": "text"
      },
      "source": [
        "<a href=\"https://colab.research.google.com/github/ymoslem/Sentence-Similarity/blob/main/Fuzzy_Term_Search.ipynb\" target=\"_parent\"><img src=\"https://colab.research.google.com/assets/colab-badge.svg\" alt=\"Open In Colab\"/></a>"
      ]
    },
    {
      "cell_type": "code",
      "execution_count": 1,
      "metadata": {
        "id": "ve2PtwrynfAl"
      },
      "outputs": [],
      "source": [
        "!pip3 install fuzzywuzzy python-Levenshtein rapidfuzz -q"
      ]
    },
    {
      "cell_type": "code",
      "source": [
        "# Fuzzy matching with RapidFuzz -- more efficient\n",
        "\n",
        "# %%timeit -n 50\n",
        "# 20.6 µs ± 7.74 µs per loop (mean ± std. dev. of 7 runs, 50 loops each)\n",
        "\n",
        "from rapidfuzz import process, fuzz\n",
        "\n",
        "# Define a (multi-word) term\n",
        "term = \"intellectual property\"\n",
        "\n",
        "# Example sentences\n",
        "sentences = [\n",
        "    \"The case focuses on intellectual property rights.\",\n",
        "    \"There's a dispute over intellectual properties.\",\n",
        "    \"Intellectual and property laws were discussed.\",\n",
        "    \"They infringed on our IP rights.\"\n",
        "]\n",
        "\n",
        "# Set a threshold for matching\n",
        "threshold = 85\n",
        "\n",
        "# Use Rapidfuzz to find sentences containing a close match to the term\n",
        "matching_sentences = [sentence for sentence in sentences\n",
        "                      if process.extractOne(term,[sentence], scorer=fuzz.WRatio)[1] >= threshold]\n",
        "\n",
        "# It finds fuzzy terms\n",
        "# Still be cautious of the 3rd result\n",
        "print(*matching_sentences, sep=\"\\n\")"
      ],
      "metadata": {
        "colab": {
          "base_uri": "https://localhost:8080/"
        },
        "id": "LuD4Z-hGvPBt",
        "outputId": "1ecdc7cd-8d2e-44cd-ad95-429b36ebcfb6"
      },
      "execution_count": 2,
      "outputs": [
        {
          "output_type": "stream",
          "name": "stdout",
          "text": [
            "The case focuses on intellectual property rights.\n",
            "There's a dispute over intellectual properties.\n",
            "Intellectual and property laws were discussed.\n"
          ]
        }
      ]
    },
    {
      "cell_type": "code",
      "source": [
        "# Fuzzy matching with FuzzyWuzzy\n",
        "\n",
        "# %%timeit -n 50\n",
        "# 1.49 ms ± 160 µs per loop (mean ± std. dev. of 7 runs, 50 loops each)\n",
        "\n",
        "from fuzzywuzzy import process\n",
        "\n",
        "# Define a (multi-word) term\n",
        "term = \"intellectual property\"\n",
        "\n",
        "# Example sentences\n",
        "sentences = [\n",
        "    \"The case focuses on intellectual property rights.\",\n",
        "    \"There's a dispute over intellectual properties.\",\n",
        "    \"Intellectual and property laws were discussed.\",\n",
        "    \"They infringed on our IP rights.\"\n",
        "]\n",
        "\n",
        "# Set a threshold for matching\n",
        "threshold = 85  # You can adjust this threshold\n",
        "\n",
        "# Find sentences containing a close match to the term\n",
        "matching_sentences = [sentence for sentence in sentences\n",
        "                      if process.extractOne(term, [sentence])[1] >= threshold]\n",
        "\n",
        "# It finds fuzzy terms\n",
        "# Still be cautious of the 3rd result\n",
        "print(*matching_sentences, sep=\"\\n\")"
      ],
      "metadata": {
        "colab": {
          "base_uri": "https://localhost:8080/"
        },
        "id": "Dgchdi3WnoQ-",
        "outputId": "aefa1376-85d1-495f-b61e-596d697a2d29"
      },
      "execution_count": 3,
      "outputs": [
        {
          "output_type": "stream",
          "name": "stdout",
          "text": [
            "The case focuses on intellectual property rights.\n",
            "There's a dispute over intellectual properties.\n",
            "Intellectual and property laws were discussed.\n"
          ]
        }
      ]
    }
  ]
}