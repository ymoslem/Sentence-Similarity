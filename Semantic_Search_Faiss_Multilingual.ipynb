{
  "cells": [
    {
      "cell_type": "markdown",
      "metadata": {
        "id": "view-in-github",
        "colab_type": "text"
      },
      "source": [
        "<a href=\"https://colab.research.google.com/github/ymoslem/Sentence-Similarity/blob/main/Semantic_Search_Faiss_Multilingual.ipynb\" target=\"_parent\"><img src=\"https://colab.research.google.com/assets/colab-badge.svg\" alt=\"Open In Colab\"/></a>"
      ]
    },
    {
      "cell_type": "markdown",
      "source": [
        "# Multilingual Semantic Search with Faiss\n",
        "\n",
        "This notebook demonstrates how to use Faiss and Sentence-Transformers to perform multilingual semantic search. We have a query in English (\"education and schools in Germany\") and we retrieve top results from documents in the Ukrainian language.\n",
        "\n",
        "* Faiss: https://github.com/facebookresearch/faiss\n",
        "* Faiss tutorial: https://www.pinecone.io/learn/series/faiss/faiss-tutorial/\n",
        "* Sentence-Transformers: https://github.com/UKPLab/sentence-transformers\n",
        "* Sentence-Transformers documentation: https://sbert.net/\n",
        "\n",
        "* Notebooks for some other similarity techniques [here](https://github.com/ymoslem/Sentence-Similarity)."
      ],
      "metadata": {
        "id": "pwP51drINgo0"
      },
      "id": "pwP51drINgo0"
    },
    {
      "cell_type": "code",
      "execution_count": 1,
      "metadata": {
        "id": "PaWDsWhfMbT1",
        "colab": {
          "base_uri": "https://localhost:8080/"
        },
        "outputId": "446d9456-9cc1-4171-aaf4-7224843e8a5a"
      },
      "outputs": [
        {
          "output_type": "stream",
          "name": "stdout",
          "text": [
            "\u001b[2K     \u001b[90m━━━━━━━━━━━━━━━━━━━━━━━━━━━━━━━━━━━━━━━━\u001b[0m \u001b[32m85.5/85.5 MB\u001b[0m \u001b[31m11.9 MB/s\u001b[0m eta \u001b[36m0:00:00\u001b[0m\n",
            "\u001b[2K     \u001b[90m━━━━━━━━━━━━━━━━━━━━━━━━━━━━━━━━━━━━━━━━\u001b[0m \u001b[32m86.0/86.0 kB\u001b[0m \u001b[31m8.4 MB/s\u001b[0m eta \u001b[36m0:00:00\u001b[0m\n",
            "\u001b[?25h  Preparing metadata (setup.py) ... \u001b[?25l\u001b[?25hdone\n",
            "\u001b[2K     \u001b[90m━━━━━━━━━━━━━━━━━━━━━━━━━━━━━━━━━━━━━━━━\u001b[0m \u001b[32m7.4/7.4 MB\u001b[0m \u001b[31m57.7 MB/s\u001b[0m eta \u001b[36m0:00:00\u001b[0m\n",
            "\u001b[2K     \u001b[90m━━━━━━━━━━━━━━━━━━━━━━━━━━━━━━━━━━━━━━━━\u001b[0m \u001b[32m1.3/1.3 MB\u001b[0m \u001b[31m48.6 MB/s\u001b[0m eta \u001b[36m0:00:00\u001b[0m\n",
            "\u001b[2K     \u001b[90m━━━━━━━━━━━━━━━━━━━━━━━━━━━━━━━━━━━━━━\u001b[0m \u001b[32m268.8/268.8 kB\u001b[0m \u001b[31m17.1 MB/s\u001b[0m eta \u001b[36m0:00:00\u001b[0m\n",
            "\u001b[2K     \u001b[90m━━━━━━━━━━━━━━━━━━━━━━━━━━━━━━━━━━━━━━━━\u001b[0m \u001b[32m7.8/7.8 MB\u001b[0m \u001b[31m69.6 MB/s\u001b[0m eta \u001b[36m0:00:00\u001b[0m\n",
            "\u001b[2K     \u001b[90m━━━━━━━━━━━━━━━━━━━━━━━━━━━━━━━━━━━━━━━━\u001b[0m \u001b[32m1.3/1.3 MB\u001b[0m \u001b[31m54.6 MB/s\u001b[0m eta \u001b[36m0:00:00\u001b[0m\n",
            "\u001b[?25h  Building wheel for sentence_transformers (setup.py) ... \u001b[?25l\u001b[?25hdone\n"
          ]
        }
      ],
      "source": [
        "!pip3 install faiss-gpu sentence_transformers -q"
      ],
      "id": "PaWDsWhfMbT1"
    },
    {
      "cell_type": "code",
      "execution_count": 2,
      "metadata": {
        "colab": {
          "base_uri": "https://localhost:8080/"
        },
        "id": "1O6NDId7KRwm",
        "outputId": "d1e0981d-721f-4f6e-97b9-6dc269f3e3b3"
      },
      "outputs": [
        {
          "output_type": "stream",
          "name": "stdout",
          "text": [
            "/content/Notion-Scraper/output\n",
            "Education\t     Ірландія.json  Нідерланди.json  Угорщина.json\n",
            "Австрія.json\t     Ісландія.json  Німеччина.json   Україна.json\n",
            "Аргентина.json\t     Іспанія.json   Норвегія.json    Фінляндія.json\n",
            "Бельгія.json\t     Італія.json    Польща.json      Франція.json\n",
            "Болгарія.json\t     Канада.json    Португалія.json  Хорватія.json\n",
            "Великобританія.json  Кіпр.json\t    Румунія.json     Чехія.json\n",
            "Греція.json\t     Країна.json    Сербія.json      Чорногорія.json\n",
            "Грузія.json\t     Латвія.json    Словаччина.json  Швейцарія.json\n",
            "Данія.json\t     Литва.json     Словенія.json    Швеція.json\n",
            "Естонія.json\t     Мексика.json   США.json\n",
            "Ізраїль.json\t     Молдова.json   Туреччина.json\n"
          ]
        }
      ],
      "source": [
        "# Download files\n",
        "!git clone https://github.com/ymoslem/Notion-Scraper.git -q\n",
        "\n",
        "%cd Notion-Scraper/output/\n",
        "!ls"
      ],
      "id": "1O6NDId7KRwm"
    },
    {
      "cell_type": "code",
      "execution_count": 3,
      "metadata": {
        "colab": {
          "base_uri": "https://localhost:8080/"
        },
        "id": "49035623",
        "outputId": "e0040e05-ceae-423f-fc50-2f2daeaa68e4"
      },
      "outputs": [
        {
          "output_type": "execute_result",
          "data": {
            "text/plain": [
              "[('Якщо ви постійно проживали в Україні і виїхали з країни, щоб уникнути війни з 24 лютого 2022 року, ви маєте право на тимчасовий захист відповідно до Виконавчого рішення Ради (ЄС) 2022/382 від 4 березня 2022 року, що встановлює наявність масового притоку переміщених осіб з України у розумінні статті 5 Директиви 2001/55/ЄС та має наслідком введення тимчасового захисту (Council Implementing Decision (EU) 2022/382 of 4 March 2022 establishing the existence of a mass influx of displaced persons from Ukraine within the meaning of Article 5 of Directive 2001/55/EC, and having the effect of introducing temporary protection).',\n",
              "  'Кіпр',\n",
              "  'Загальна інформація',\n",
              "  'https://uahelpinfo.notion.site/4fee11cb7559421b8b2a8d60ab26950a'),\n",
              " ('Тимчасовий захист триватиме щонайменше один рік і може бути продовжений залежно від ситуації в Україні. Права згідно з Директивою про тимчасовий захист включають: дозвіл на проживання, доступ до ринку праці та житла, медичну допомогу та доступ до освіти для дітей.',\n",
              "  'Кіпр',\n",
              "  'Загальна інформація',\n",
              "  'https://uahelpinfo.notion.site/4fee11cb7559421b8b2a8d60ab26950a'),\n",
              " ('Відповідну заяву про тимчасовий захист можна подати в будь-якому районному управлінні імміграційної поліції Кіпру.',\n",
              "  'Кіпр',\n",
              "  'Загальна інформація',\n",
              "  'https://uahelpinfo.notion.site/4fee11cb7559421b8b2a8d60ab26950a'),\n",
              " ('Бланк заяви: TEMPORARY PROTECTION APPLICATION (EN).docx Для відкриття цього файлу потрібен Microsoft Word (Розмір: 31,87 Кб)',\n",
              "  'Кіпр',\n",
              "  'Загальна інформація',\n",
              "  'https://uahelpinfo.notion.site/4fee11cb7559421b8b2a8d60ab26950a'),\n",
              " ('Українці звільняються від обов’язку заповнювати «Cyprus Flight Pass», крім того, вони звільнені від тестування на Covid-19 перед відльотом до Кіпру, однак, після прибуття на Кіпр їм доведеться пройти тест на Covid-19 за державний кошт.',\n",
              "  'Кіпр',\n",
              "  'Загальна інформація',\n",
              "  'https://uahelpinfo.notion.site/4fee11cb7559421b8b2a8d60ab26950a')]"
            ]
          },
          "metadata": {},
          "execution_count": 3
        }
      ],
      "source": [
        "import json\n",
        "import os\n",
        "\n",
        "work_dir = \".\"\n",
        "json_files = [file_name for file_name in os.listdir(work_dir) if file_name.endswith(\".json\")]\n",
        "\n",
        "corpus = []\n",
        "\n",
        "for json_file in json_files:\n",
        "    with open(os.path.join(work_dir,json_file)) as json_input:\n",
        "        json_content = json.load(json_input)\n",
        "        for item in json_content:\n",
        "            url = item[\"url\"]\n",
        "            text_paragraphs = item[\"text\"].split(\"\\n\")\n",
        "            text_paragraphs = [(para, json_file[:-5], item[\"topic\"], item[\"url\"]) for para in text_paragraphs if len(para.split())>10 \\\n",
        "                               and (para, json_file[:-5], item[\"topic\"], item[\"url\"]) not in corpus]\n",
        "            corpus += text_paragraphs\n",
        "\n",
        "corpus[0:5]"
      ],
      "id": "49035623"
    },
    {
      "cell_type": "code",
      "execution_count": null,
      "metadata": {
        "id": "896a83a6"
      },
      "outputs": [],
      "source": [
        "from sentence_transformers import SentenceTransformer\n",
        "\n",
        "corpus_sentences = [item[0] for item in corpus]\n",
        "\n",
        "embedder = SentenceTransformer(\"paraphrase-multilingual-MiniLM-L12-v2\", device=\"cuda\")\n",
        "\n",
        "corpus_embeddings = embedder.encode(corpus_sentences, convert_to_numpy=True, show_progress_bar=True)"
      ],
      "id": "896a83a6"
    },
    {
      "cell_type": "code",
      "execution_count": null,
      "metadata": {
        "id": "5e285b2f"
      },
      "outputs": [],
      "source": [
        "# Save corpus_embeddings to a file to be able to load later\n",
        "import pickle\n",
        "\n",
        "with open(\"corpus_embeddings_uk.pkl\", \"wb\") as embeddings:\n",
        "    pickle.dump({'corpus': corpus, 'embeddings': corpus_embeddings}, embeddings)"
      ],
      "id": "5e285b2f"
    },
    {
      "cell_type": "code",
      "execution_count": null,
      "metadata": {
        "id": "46b69fdb"
      },
      "outputs": [],
      "source": [
        "# To load the embeddings later from the file instead of creating from scratch\n",
        "import pickle\n",
        "\n",
        "with open(\"corpus_embeddings_uk.pkl\", \"rb\") as embeddings:\n",
        "    data = pickle.load(embeddings)\n",
        "    corpus = data['corpus']\n",
        "    corpus_sentences = [item[0] for item in corpus]\n",
        "    corpus_embeddings = data['embeddings']"
      ],
      "id": "46b69fdb"
    },
    {
      "cell_type": "code",
      "execution_count": null,
      "metadata": {
        "id": "f039fd50",
        "outputId": "ea64667e-9867-453b-f8a8-5703ca845a36",
        "colab": {
          "base_uri": "https://localhost:8080/"
        }
      },
      "outputs": [
        {
          "output_type": "execute_result",
          "data": {
            "text/plain": [
              "(8238, 384)"
            ]
          },
          "metadata": {},
          "execution_count": 7
        }
      ],
      "source": [
        "corpus_embeddings.shape"
      ],
      "id": "f039fd50"
    },
    {
      "cell_type": "code",
      "execution_count": null,
      "metadata": {
        "id": "e0459721",
        "outputId": "25b5f8fa-9a6f-496c-8822-3e1d8f269326",
        "colab": {
          "base_uri": "https://localhost:8080/"
        }
      },
      "outputs": [
        {
          "output_type": "stream",
          "name": "stdout",
          "text": [
            "Start creating FAISS index\n",
            "Number of embeddings indexed: 8238\n"
          ]
        }
      ],
      "source": [
        "import faiss\n",
        "\n",
        "embedding_size = 384\n",
        "n_clusters = 128\n",
        "top_k_hits = 20\n",
        "\n",
        "quantizer = faiss.IndexFlatL2(embedding_size)\n",
        "index = faiss.IndexIVFFlat(quantizer, embedding_size, n_clusters)\n",
        "\n",
        "# Number of clusters to explorer at search time.\n",
        "# We will search for nearest neighbors in 8 clusters\n",
        "index.nprobe = 8\n",
        "\n",
        "### Create the FAISS index\n",
        "print(\"Start creating FAISS index\")\n",
        "\n",
        "# Train the index to find a suitable clustering\n",
        "index.train(corpus_embeddings)\n",
        "\n",
        "# Add all embeddings to the index\n",
        "index.add(corpus_embeddings)\n",
        "\n",
        "print(\"Number of embeddings indexed:\", index.ntotal)"
      ],
      "id": "e0459721"
    },
    {
      "cell_type": "code",
      "execution_count": null,
      "metadata": {
        "id": "7484600b",
        "outputId": "34759bf8-a9c9-460c-916f-7022417d6602",
        "colab": {
          "base_uri": "https://localhost:8080/"
        }
      },
      "outputs": [
        {
          "output_type": "stream",
          "name": "stdout",
          "text": [
            "[[2772 2771 5476 5478 2903 2774 1951 2773 5958 2878  214 2077 1947 2131\n",
            "   506 2876 7040 1948 5487 2987]] \n",
            "\n",
            "[(9.90493, 2772), (12.193857, 2771), (17.366167, 5476), (17.789064, 5478), (18.18654, 2903), (18.472946, 2774), (18.633497, 1951), (18.761229, 2773), (18.841148, 5958), (19.09331, 2878), (19.265436, 214), (19.470036, 2077), (19.66442, 1947), (19.77827, 2131), (19.842066, 506), (19.857483, 2876), (19.93596, 7040), (20.255209, 1948), (20.553595, 5487), (20.602602, 2987)] \n",
            "\n",
            "Як влаштувати дитину до школи в Німеччині? | Розповідь інсайдера |Відповіді на всі запитання |\n",
            "Read more: Німеччина - Діти: https://uahelpinfo.notion.site/bb09aeaa08fa4e309e7fe8136427e686\n",
            "Distance: 9.9\n",
            "\n",
            "Після оформлення та отримання відповідних документів, виникнуть питання в яку школу віддавати дітей і яким чином тут це налаштовано. Більше інформації про систему освіти у Німеччині можна прочитати тут.\n",
            "Read more: Німеччина - Діти: https://uahelpinfo.notion.site/bb09aeaa08fa4e309e7fe8136427e686\n",
            "Distance: 12.19\n",
            "\n",
            "Зарахування до ясла/дошкільного закладу здійснюється через муніципалітет, у якому ви проживаєте у Швеції. Оскільки процес такий самий, як і для школи, те саме стосується. Прикладом у Стокгольмі є Nacka, а інформацію про школу можна знайти тут: https://www.nacka.se/forskola-skola/ukraina-information-forskola-skola/faq-ukraina-forskola-skola/. Зазвичай сайт шведською мовою, але є можливість перекласти його у верхній частині сторінки. Ви повинні надати інформацію про причину вашого перебування в Швеції, особисту інформацію, таку як ім’я, дата народження, адреса, чи є ви єдиним опікуном тощо.\n",
            "Read more: Швеція - Діти: https://uahelpinfo.notion.site/7f1cee14c34c428b895bc591f77d14b9\n",
            "Distance: 17.37\n",
            "\n",
            "Зарахування до школи здійснюється через муніципалітет, у якому ви проживаєте у Швеції. Зв’яжіться з відповідним муніципалітетом, і вони допоможуть з домовленістю. Прикладом у Стокгольмі є Nacka, а інформацію про школу можна знайти тут: https://www.nacka.se/forskola-skola/ukraina-information-forskola-skola/faq-ukraina-forskola-skola/. Зазвичай сайт шведською мовою, але є можливість перекласти його у верхній частині сторінки. Ви повинні надати інформацію про причину вашого перебування в Швеції, особисту інформацію, таку як ім’я, дата народження, адреса, чи є ви єдиним опікуном тощо.\n",
            "Read more: Швеція - Діти: https://uahelpinfo.notion.site/7f1cee14c34c428b895bc591f77d14b9\n",
            "Distance: 17.79\n",
            "\n",
            "Група вивчення німецької для переселенців. Курс для абсолютних початківців. Щочетверга о 10 годині віденського часу. https://t.me/deutschfueraliens_kurs\n",
            "Read more: Німеччина - Освіта та мовні курси: https://uahelpinfo.notion.site/d6214a719110464d88cb2609515d7a1e\n",
            "Distance: 18.19\n",
            "\n",
            "Усі діти, які проживають у Німеччині, включаючи дітей, які рятуються від війни в Україні, мають право на освіту. Кожен з 16 федеральних держав (Бундеслайндер) має свої правила, але всі діти, включаючи біженців, зобов'язані відвідувати школу, починаючи з 6 років.\n",
            "Read more: Німеччина - Діти: https://uahelpinfo.notion.site/bb09aeaa08fa4e309e7fe8136427e686\n",
            "Distance: 18.47\n",
            "\n",
            "Австрійські школи розглядають українських дітей як особливих учнів (не ставлять оцінки, домашнє завдання не дають), де основна увага у навчальному процесі приділяється саме мові та адаптації, а не фактичному навчанню, бо без мови – складно. Якщо ціль саме предмети та навчання, можно спробувати онлайн-уроки від Міносвіти\n",
            "Read more: Австрія - Діти: https://uahelpinfo.notion.site/309b24d5514d413cabed5251f61f749e\n",
            "Distance: 18.63\n",
            "\n",
            "Українська діаспора у Німеччині, та Берліні зокрема, дуже велика. Молоді батьки зацікавлені у спілкуванні дітей рідною мовою серед земляків-однолітків, залученню їх до української культури та традицій. Саме тому у Берліні є українська скаутська організація Пласт та Українська суботня школа.\n",
            "Read more: Німеччина - Діти: https://uahelpinfo.notion.site/bb09aeaa08fa4e309e7fe8136427e686\n",
            "Distance: 18.76\n",
            "\n",
            "освітня ініціатива для учнів початкової та середньої школи України: від школи Базис разом з Viber-спільнотою Школа.інфо\n",
            "Read more: Україна - Діти: https://uahelpinfo.notion.site/aeabb270f91e4e73b0700c2cc23fb8a6\n",
            "Distance: 18.84\n",
            "\n",
            "Університет Людвіга Максиміліян (ЛМУ) в Мюнхені збирає пожертви на підтримку студентів та професорів різними способами (разова фінансова підтримка / стипендії / допомога для боротьби з німецькою владою / консультуванням щодо німецьких класів та варіантів навчання в ЛМУ).\n",
            "Read more: Німеччина - Освіта та мовні курси: https://uahelpinfo.notion.site/d6214a719110464d88cb2609515d7a1e\n",
            "Distance: 19.09\n",
            "\n",
            "Учні 11 класів-випускники! Зверніться до \"Українського дому\" у Роттердамі. Для них буде створена окрема школа. Зараз ми визначаємося з її місцезнаходженням.\n",
            "Read more: Нідерланди - Освіта та мовні курси: https://uahelpinfo.notion.site/7f65b976009e4ec2b402c89d4f21702a\n",
            "Distance: 19.27\n",
            "\n",
            "Курси німецької мови Caritas у Відні. Детальну інформацію можна отримати на сайті www.caritas-wien.at\n",
            "Read more: Австрія - Освіта та мовні курси: https://uahelpinfo.notion.site/c240136a43c54924ae2ad339029d29b8\n",
            "Distance: 19.47\n",
            "\n",
            "Як правило, діти зараховуються безпосередньо у відповідні школи. Огляд австрійської системи шкільної освіти та наявних шкіл можна знайти тут 11 мовами (на жаль, поки що не українською). Українська версія на даний момент готується і незабаром буде опублікована тут. На даний момент українським біженцям необхідно безпосередньо зв'язатися з відповідним Департаментом освіти у федеральній землі, в якій вони перебувають. Департаменти освіти в даний час керують зарахуванням учнів на навчання і мають найактуальнішу інформацію. Нижче наведені контактні дані Департаментів освіти всіх федеральних земель:\n",
            "Read more: Австрія - Діти: https://uahelpinfo.notion.site/309b24d5514d413cabed5251f61f749e\n",
            "Distance: 19.66\n",
            "\n",
            "Підтвердження іноземних дипломів для роботи в Австрії: лікарі, юристи, інші дипломи, перекласти документи з української на німецьку\n",
            "Read more: Австрія - Корисна інформація: https://uahelpinfo.notion.site/84eb4752f3474e2a9dca53992271f685\n",
            "Distance: 19.78\n",
            "\n",
            "FB - УКРАЇНСЬКА ШКОЛА «ЕЛЛІСІВ» В ОСЛО / DEN UKRAINSKE SKOLEN «ELLISIV» I OSLO https://www.facebook.com/ellisiv.ukrainian.school.oslo.norway/\n",
            "Read more: Норвегія - Корисна інформація: https://uahelpinfo.notion.site/24ff5200f0eb46499939cd4efccad2f0\n",
            "Distance: 19.84\n",
            "\n",
            "Європейський університет Віадріна Франкфурт (ODER) пропонує спеціальні заняття з підготовки до українських біженців, а також можливість там вивчити. Це також допомагає українцям стосовно студентського житла.\n",
            "Read more: Німеччина - Освіта та мовні курси: https://uahelpinfo.notion.site/d6214a719110464d88cb2609515d7a1e\n",
            "Distance: 19.86\n",
            "\n",
            "В Haderslev открыта бесплатная дневная школа по изучению датского языка. Handelsskolen (FVU-undervisning).\n",
            "Read more: Данія - Освіта та мовні курси: https://uahelpinfo.notion.site/a8427a3fdbe14b8eb9b207a1ba86c602\n",
            "Distance: 19.94\n",
            "\n",
            "Школи без проблем приймають дітей та підлітків у місцеві школи. Навчання є безкоштовним. У місцевих школах є досвід роботи по навчанню та інтеграції дітей іноземців, адже це не перша міграційна криза для Австрії\n",
            "Read more: Австрія - Діти: https://uahelpinfo.notion.site/309b24d5514d413cabed5251f61f749e\n",
            "Distance: 20.26\n",
            "\n",
            "Це робиться так само, як і подача заявки на навчання в школі, як описано вище, через муніципалітет, у якому ви проживаєте у Швеції.\n",
            "Read more: Швеція - Люди похилого віку або з інвалідністю: https://uahelpinfo.notion.site/0ed0f867a4df4fa39bae04e3f69ca6bb\n",
            "Distance: 20.55\n",
            "\n",
            "Сучасний Мюнхен — не тільки осередок культурних та музейних цінностей, а й великий промисловий і дослідницький центр. Завдяки знаменитим університетам, одній із найбільших у Європі Баварській державній книгозбірні, що налічує 6 мільйонів томів, інститутам імені Макса Планка та імені Гайнца Майєра-Лейбніца, ядерному науково-дослідному реактору й багатьом іншим установам Мюнхен утримує міцні позиції в європейській науці.\n",
            "Read more: Німеччина - Мюнхен: https://uahelpinfo.notion.site/7699cfbd25784ddaa67fbef12b6ec619\n",
            "Distance: 20.6\n",
            "\n"
          ]
        }
      ],
      "source": [
        "from sentence_transformers import SentenceTransformer\n",
        "\n",
        "queries = [\"education and schools in Germany\"]\n",
        "model_name = \"paraphrase-multilingual-MiniLM-L12-v2\"\n",
        "model = SentenceTransformer(model_name)\n",
        "\n",
        "query_embeddings = model.encode(queries)\n",
        "\n",
        "# Search in FAISS. It returns a matrix with distances and corpus ids.\n",
        "distances, corpus_ids = index.search(query_embeddings, k=top_k_hits)\n",
        "\n",
        "print(corpus_ids, \"\\n\")\n",
        "\n",
        "results = sorted([result for result in zip(distances.flatten(), corpus_ids.flatten())])\n",
        "print(results, \"\\n\")\n",
        "\n",
        "for distance, idx in results:\n",
        "    print(corpus_sentences[idx])\n",
        "    print(f\"Read more: {corpus[idx][1]} - {corpus[idx][2]}: {corpus[idx][3]}\")\n",
        "    print(f\"Distance: {round(distance.item(), 2)}\\n\")"
      ],
      "id": "7484600b"
    },
    {
      "cell_type": "code",
      "source": [
        "results[:5]"
      ],
      "metadata": {
        "colab": {
          "base_uri": "https://localhost:8080/"
        },
        "id": "UKOHBe70Sf_C",
        "outputId": "09a6e9b3-df1f-4b2b-8389-e0a553cfbdeb"
      },
      "id": "UKOHBe70Sf_C",
      "execution_count": null,
      "outputs": [
        {
          "output_type": "execute_result",
          "data": {
            "text/plain": [
              "[(9.90493, 2772),\n",
              " (12.193857, 2771),\n",
              " (17.366167, 5476),\n",
              " (17.789064, 5478),\n",
              " (18.18654, 2903)]"
            ]
          },
          "metadata": {},
          "execution_count": 16
        }
      ]
    },
    {
      "cell_type": "code",
      "source": [
        "# Reranking input [(query, paragraph), (query, paragraph), (query, paragraph), ...]\n",
        "\n",
        "reranker_input = [(queries[0], corpus[result[1]][0]) for result in results]\n",
        "reranker_input[:5]"
      ],
      "metadata": {
        "colab": {
          "base_uri": "https://localhost:8080/"
        },
        "id": "DdHkGHkAT1rw",
        "outputId": "8dec1d3e-facf-41da-d15c-d9233acc18f4"
      },
      "id": "DdHkGHkAT1rw",
      "execution_count": null,
      "outputs": [
        {
          "output_type": "execute_result",
          "data": {
            "text/plain": [
              "[('education and schools in Germany',\n",
              "  'Як влаштувати дитину до школи в Німеччині? | Розповідь інсайдера |Відповіді на всі запитання |'),\n",
              " ('education and schools in Germany',\n",
              "  'Після оформлення та отримання відповідних документів, виникнуть питання в яку школу віддавати дітей і яким чином тут це налаштовано. Більше інформації про систему освіти у Німеччині можна прочитати тут.'),\n",
              " ('education and schools in Germany',\n",
              "  'Зарахування до ясла/дошкільного закладу здійснюється через муніципалітет, у якому ви проживаєте у Швеції. Оскільки процес такий самий, як і для школи, те саме стосується. Прикладом у Стокгольмі є Nacka, а інформацію про школу можна знайти тут: https://www.nacka.se/forskola-skola/ukraina-information-forskola-skola/faq-ukraina-forskola-skola/. Зазвичай сайт шведською мовою, але є можливість перекласти його у верхній частині сторінки. Ви повинні надати інформацію про причину вашого перебування в Швеції, особисту інформацію, таку як ім’я, дата народження, адреса, чи є ви єдиним опікуном тощо.'),\n",
              " ('education and schools in Germany',\n",
              "  'Зарахування до школи здійснюється через муніципалітет, у якому ви проживаєте у Швеції. Зв’яжіться з відповідним муніципалітетом, і вони допоможуть з домовленістю. Прикладом у Стокгольмі є Nacka, а інформацію про школу можна знайти тут: https://www.nacka.se/forskola-skola/ukraina-information-forskola-skola/faq-ukraina-forskola-skola/. Зазвичай сайт шведською мовою, але є можливість перекласти його у верхній частині сторінки. Ви повинні надати інформацію про причину вашого перебування в Швеції, особисту інформацію, таку як ім’я, дата народження, адреса, чи є ви єдиним опікуном тощо.'),\n",
              " ('education and schools in Germany',\n",
              "  'Група вивчення німецької для переселенців. Курс для абсолютних початківців. Щочетверга о 10 годині віденського часу. https://t.me/deutschfueraliens_kurs')]"
            ]
          },
          "metadata": {},
          "execution_count": 15
        }
      ]
    },
    {
      "cell_type": "code",
      "source": [
        "# [Optional] Reranking\n",
        "# After retrieving the top-k candidates, we can re-rank them with a cross-encoder model\n",
        "\n",
        "from sentence_transformers import CrossEncoder\n",
        "\n",
        "model = CrossEncoder(\"amberoad/bert-multilingual-passage-reranking-msmarco\", max_length=512)\n",
        "reranker_scores = model.predict(reranker_input)\n",
        "\n",
        "reranker_scores"
      ],
      "metadata": {
        "colab": {
          "base_uri": "https://localhost:8080/"
        },
        "id": "0ek6bBXPRDhW",
        "outputId": "b43d0854-b29a-4bba-ca43-9c92c81d0f3b"
      },
      "id": "0ek6bBXPRDhW",
      "execution_count": null,
      "outputs": [
        {
          "output_type": "execute_result",
          "data": {
            "text/plain": [
              "array([[ 3.5964847 , -2.734025  ],\n",
              "       [ 0.9109005 , -0.46546054],\n",
              "       [ 5.3045406 , -4.2468195 ],\n",
              "       [ 5.399157  , -4.3299828 ],\n",
              "       [ 5.1483917 , -4.1939054 ],\n",
              "       [ 2.9685948 , -2.0185874 ],\n",
              "       [ 4.5973735 , -3.622678  ],\n",
              "       [ 4.995662  , -4.0253553 ],\n",
              "       [ 5.5680523 , -4.724469  ],\n",
              "       [ 2.6057577 , -1.7372148 ],\n",
              "       [ 4.561674  , -3.5567884 ],\n",
              "       [ 5.113559  , -4.169189  ],\n",
              "       [ 4.5246477 , -3.4602773 ],\n",
              "       [ 5.7684865 , -4.8660135 ],\n",
              "       [ 5.731863  , -4.7733545 ],\n",
              "       [ 4.248139  , -3.2506905 ],\n",
              "       [ 3.7729554 , -2.8010938 ],\n",
              "       [ 5.516426  , -4.507867  ],\n",
              "       [ 5.321773  , -4.2480187 ],\n",
              "       [ 5.211706  , -4.23989   ]], dtype=float32)"
            ]
          },
          "metadata": {},
          "execution_count": 12
        }
      ]
    },
    {
      "cell_type": "code",
      "source": [
        "# full hits from the corpus with links\n",
        "full_hits = [[result[0], corpus[result[1]]] for result in results]\n",
        "reranker_output = zip(reranker_scores, full_hits)\n",
        "\n",
        "# Compare the results before and after reranking\n",
        "# for score, hit in zip(reranker_scores, full_hits):\n",
        "#   print(score, hit)\n",
        "\n",
        "\n",
        "sorted_reranked_output = sorted([(score[0], hit[1]) for score, hit in reranker_output])\n",
        "\n",
        "for score, hit in sorted_reranked_output:\n",
        "  print(f\"{hit[0]} \\nRead more: {hit[1]} - {hit[2]}: {hit[3]} \\nDistance: {round(score.item(), 2)}\\n\")"
      ],
      "metadata": {
        "colab": {
          "base_uri": "https://localhost:8080/"
        },
        "id": "VMKkxCQfd7Nv",
        "outputId": "82fee3a5-fe99-45db-ff2d-1340d7b9d90d"
      },
      "id": "VMKkxCQfd7Nv",
      "execution_count": null,
      "outputs": [
        {
          "output_type": "stream",
          "name": "stdout",
          "text": [
            "Після оформлення та отримання відповідних документів, виникнуть питання в яку школу віддавати дітей і яким чином тут це налаштовано. Більше інформації про систему освіти у Німеччині можна прочитати тут. \n",
            "Read more: Німеччина - Діти: https://uahelpinfo.notion.site/bb09aeaa08fa4e309e7fe8136427e686 \n",
            "Distance: 0.91\n",
            "\n",
            "Університет Людвіга Максиміліян (ЛМУ) в Мюнхені збирає пожертви на підтримку студентів та професорів різними способами (разова фінансова підтримка / стипендії / допомога для боротьби з німецькою владою / консультуванням щодо німецьких класів та варіантів навчання в ЛМУ). \n",
            "Read more: Німеччина - Освіта та мовні курси: https://uahelpinfo.notion.site/d6214a719110464d88cb2609515d7a1e \n",
            "Distance: 2.61\n",
            "\n",
            "Усі діти, які проживають у Німеччині, включаючи дітей, які рятуються від війни в Україні, мають право на освіту. Кожен з 16 федеральних держав (Бундеслайндер) має свої правила, але всі діти, включаючи біженців, зобов'язані відвідувати школу, починаючи з 6 років. \n",
            "Read more: Німеччина - Діти: https://uahelpinfo.notion.site/bb09aeaa08fa4e309e7fe8136427e686 \n",
            "Distance: 2.97\n",
            "\n",
            "Як влаштувати дитину до школи в Німеччині? | Розповідь інсайдера |Відповіді на всі запитання | \n",
            "Read more: Німеччина - Діти: https://uahelpinfo.notion.site/bb09aeaa08fa4e309e7fe8136427e686 \n",
            "Distance: 3.6\n",
            "\n",
            "В Haderslev открыта бесплатная дневная школа по изучению датского языка. Handelsskolen (FVU-undervisning). \n",
            "Read more: Данія - Освіта та мовні курси: https://uahelpinfo.notion.site/a8427a3fdbe14b8eb9b207a1ba86c602 \n",
            "Distance: 3.77\n",
            "\n",
            "Європейський університет Віадріна Франкфурт (ODER) пропонує спеціальні заняття з підготовки до українських біженців, а також можливість там вивчити. Це також допомагає українцям стосовно студентського житла. \n",
            "Read more: Німеччина - Освіта та мовні курси: https://uahelpinfo.notion.site/d6214a719110464d88cb2609515d7a1e \n",
            "Distance: 4.25\n",
            "\n",
            "Як правило, діти зараховуються безпосередньо у відповідні школи. Огляд австрійської системи шкільної освіти та наявних шкіл можна знайти тут 11 мовами (на жаль, поки що не українською). Українська версія на даний момент готується і незабаром буде опублікована тут. На даний момент українським біженцям необхідно безпосередньо зв'язатися з відповідним Департаментом освіти у федеральній землі, в якій вони перебувають. Департаменти освіти в даний час керують зарахуванням учнів на навчання і мають найактуальнішу інформацію. Нижче наведені контактні дані Департаментів освіти всіх федеральних земель: \n",
            "Read more: Австрія - Діти: https://uahelpinfo.notion.site/309b24d5514d413cabed5251f61f749e \n",
            "Distance: 4.52\n",
            "\n",
            "Учні 11 класів-випускники! Зверніться до \"Українського дому\" у Роттердамі. Для них буде створена окрема школа. Зараз ми визначаємося з її місцезнаходженням. \n",
            "Read more: Нідерланди - Освіта та мовні курси: https://uahelpinfo.notion.site/7f65b976009e4ec2b402c89d4f21702a \n",
            "Distance: 4.56\n",
            "\n",
            "Австрійські школи розглядають українських дітей як особливих учнів (не ставлять оцінки, домашнє завдання не дають), де основна увага у навчальному процесі приділяється саме мові та адаптації, а не фактичному навчанню, бо без мови – складно. Якщо ціль саме предмети та навчання, можно спробувати онлайн-уроки від Міносвіти \n",
            "Read more: Австрія - Діти: https://uahelpinfo.notion.site/309b24d5514d413cabed5251f61f749e \n",
            "Distance: 4.6\n",
            "\n",
            "Українська діаспора у Німеччині, та Берліні зокрема, дуже велика. Молоді батьки зацікавлені у спілкуванні дітей рідною мовою серед земляків-однолітків, залученню їх до української культури та традицій. Саме тому у Берліні є українська скаутська організація Пласт та Українська суботня школа. \n",
            "Read more: Німеччина - Діти: https://uahelpinfo.notion.site/bb09aeaa08fa4e309e7fe8136427e686 \n",
            "Distance: 5.0\n",
            "\n",
            "Курси німецької мови Caritas у Відні. Детальну інформацію можна отримати на сайті www.caritas-wien.at \n",
            "Read more: Австрія - Освіта та мовні курси: https://uahelpinfo.notion.site/c240136a43c54924ae2ad339029d29b8 \n",
            "Distance: 5.11\n",
            "\n",
            "Група вивчення німецької для переселенців. Курс для абсолютних початківців. Щочетверга о 10 годині віденського часу. https://t.me/deutschfueraliens_kurs \n",
            "Read more: Німеччина - Освіта та мовні курси: https://uahelpinfo.notion.site/d6214a719110464d88cb2609515d7a1e \n",
            "Distance: 5.15\n",
            "\n",
            "Сучасний Мюнхен — не тільки осередок культурних та музейних цінностей, а й великий промисловий і дослідницький центр. Завдяки знаменитим університетам, одній із найбільших у Європі Баварській державній книгозбірні, що налічує 6 мільйонів томів, інститутам імені Макса Планка та імені Гайнца Майєра-Лейбніца, ядерному науково-дослідному реактору й багатьом іншим установам Мюнхен утримує міцні позиції в європейській науці. \n",
            "Read more: Німеччина - Мюнхен: https://uahelpinfo.notion.site/7699cfbd25784ddaa67fbef12b6ec619 \n",
            "Distance: 5.21\n",
            "\n",
            "Зарахування до ясла/дошкільного закладу здійснюється через муніципалітет, у якому ви проживаєте у Швеції. Оскільки процес такий самий, як і для школи, те саме стосується. Прикладом у Стокгольмі є Nacka, а інформацію про школу можна знайти тут: https://www.nacka.se/forskola-skola/ukraina-information-forskola-skola/faq-ukraina-forskola-skola/. Зазвичай сайт шведською мовою, але є можливість перекласти його у верхній частині сторінки. Ви повинні надати інформацію про причину вашого перебування в Швеції, особисту інформацію, таку як ім’я, дата народження, адреса, чи є ви єдиним опікуном тощо. \n",
            "Read more: Швеція - Діти: https://uahelpinfo.notion.site/7f1cee14c34c428b895bc591f77d14b9 \n",
            "Distance: 5.3\n",
            "\n",
            "Це робиться так само, як і подача заявки на навчання в школі, як описано вище, через муніципалітет, у якому ви проживаєте у Швеції. \n",
            "Read more: Швеція - Люди похилого віку або з інвалідністю: https://uahelpinfo.notion.site/0ed0f867a4df4fa39bae04e3f69ca6bb \n",
            "Distance: 5.32\n",
            "\n",
            "Зарахування до школи здійснюється через муніципалітет, у якому ви проживаєте у Швеції. Зв’яжіться з відповідним муніципалітетом, і вони допоможуть з домовленістю. Прикладом у Стокгольмі є Nacka, а інформацію про школу можна знайти тут: https://www.nacka.se/forskola-skola/ukraina-information-forskola-skola/faq-ukraina-forskola-skola/. Зазвичай сайт шведською мовою, але є можливість перекласти його у верхній частині сторінки. Ви повинні надати інформацію про причину вашого перебування в Швеції, особисту інформацію, таку як ім’я, дата народження, адреса, чи є ви єдиним опікуном тощо. \n",
            "Read more: Швеція - Діти: https://uahelpinfo.notion.site/7f1cee14c34c428b895bc591f77d14b9 \n",
            "Distance: 5.4\n",
            "\n",
            "Школи без проблем приймають дітей та підлітків у місцеві школи. Навчання є безкоштовним. У місцевих школах є досвід роботи по навчанню та інтеграції дітей іноземців, адже це не перша міграційна криза для Австрії \n",
            "Read more: Австрія - Діти: https://uahelpinfo.notion.site/309b24d5514d413cabed5251f61f749e \n",
            "Distance: 5.52\n",
            "\n",
            "освітня ініціатива для учнів початкової та середньої школи України: від школи Базис разом з Viber-спільнотою Школа.інфо \n",
            "Read more: Україна - Діти: https://uahelpinfo.notion.site/aeabb270f91e4e73b0700c2cc23fb8a6 \n",
            "Distance: 5.57\n",
            "\n",
            "FB - УКРАЇНСЬКА ШКОЛА «ЕЛЛІСІВ» В ОСЛО / DEN UKRAINSKE SKOLEN «ELLISIV» I OSLO https://www.facebook.com/ellisiv.ukrainian.school.oslo.norway/ \n",
            "Read more: Норвегія - Корисна інформація: https://uahelpinfo.notion.site/24ff5200f0eb46499939cd4efccad2f0 \n",
            "Distance: 5.73\n",
            "\n",
            "Підтвердження іноземних дипломів для роботи в Австрії: лікарі, юристи, інші дипломи, перекласти документи з української на німецьку \n",
            "Read more: Австрія - Корисна інформація: https://uahelpinfo.notion.site/84eb4752f3474e2a9dca53992271f685 \n",
            "Distance: 5.77\n",
            "\n"
          ]
        }
      ]
    },
    {
      "cell_type": "markdown",
      "metadata": {
        "id": "62ec652d"
      },
      "source": [
        "# GPU"
      ],
      "id": "62ec652d"
    },
    {
      "cell_type": "code",
      "execution_count": null,
      "metadata": {
        "id": "e3b915e5"
      },
      "outputs": [],
      "source": [
        "# To load the embeddings later from the file instead of creating from scratch\n",
        "import pickle\n",
        "\n",
        "with open(\"corpus_embeddings_uk.pkl\", \"rb\") as embeddings:\n",
        "    data = pickle.load(embeddings)\n",
        "    corpus = data['corpus']\n",
        "    corpus_sentences = [item[0] for item in corpus]\n",
        "    corpus_embeddings = data['embeddings']"
      ],
      "id": "e3b915e5"
    },
    {
      "cell_type": "code",
      "execution_count": null,
      "metadata": {
        "id": "3add4241"
      },
      "outputs": [],
      "source": [
        "import os\n",
        "\n",
        "# Which GPU to use (if you have multiple GPUs)\n",
        "os.environ[\"CUDA_DEVICE_ORDER\"]=\"PCI_BUS_ID\"\n",
        "os.environ[\"CUDA_VISIBLE_DEVICES\"]=\"0\"  # or \"0,1\" for multiple gpus\n",
        "\n",
        "# For debugging CUDA errors\n",
        "os.environ[\"CUDA_LAUNCH_BLOCKING\"]=\"1\""
      ],
      "id": "3add4241"
    },
    {
      "cell_type": "code",
      "execution_count": null,
      "metadata": {
        "id": "549cd3a0",
        "outputId": "610c6739-2187-4695-d32d-96afffeb5151",
        "colab": {
          "base_uri": "https://localhost:8080/"
        }
      },
      "outputs": [
        {
          "output_type": "stream",
          "name": "stdout",
          "text": [
            "0\n"
          ]
        }
      ],
      "source": [
        "!echo $CUDA_VISIBLE_DEVICES"
      ],
      "id": "549cd3a0"
    },
    {
      "cell_type": "code",
      "execution_count": null,
      "metadata": {
        "id": "f879c40b",
        "outputId": "e1eac52b-29c2-4705-f2bc-ca37dd1abde8",
        "colab": {
          "base_uri": "https://localhost:8080/"
        }
      },
      "outputs": [
        {
          "output_type": "stream",
          "name": "stdout",
          "text": [
            "Number of GPUs: 1\n",
            "Now the index in on GPU.\n",
            "Training complete!\n",
            "8238 added.\n"
          ]
        }
      ],
      "source": [
        "# Single GPU\n",
        "\n",
        "import faiss\n",
        "\n",
        "embedding_size = 384\n",
        "n_clusters = 16\n",
        "top_k_hits = 10\n",
        "\n",
        "quantizer = faiss.IndexFlatL2(embedding_size)\n",
        "index = faiss.IndexIVFFlat(quantizer, embedding_size, n_clusters, faiss.METRIC_L2)\n",
        "\n",
        "# Number of clusters to explorer at search time.\n",
        "# We will search for nearest neighbors in 8 clusters\n",
        "index.nprobe = 8\n",
        "\n",
        "ngpus = faiss.get_num_gpus()\n",
        "print(\"Number of GPUs:\", ngpus)\n",
        "\n",
        "res = faiss.StandardGpuResources()  # use a single GPU\n",
        "gpu_index_flat = faiss.index_cpu_to_gpu(res, 0, index)\n",
        "print(\"Now the index in on GPU.\")\n",
        "\n",
        "# Train the index to find a suitable clustering\n",
        "assert not gpu_index_flat.is_trained\n",
        "gpu_index_flat.train(corpus_embeddings)\n",
        "assert gpu_index_flat.is_trained\n",
        "print(\"Training complete!\")\n",
        "\n",
        "gpu_index_flat.add(corpus_embeddings)  # add vectors to the index\n",
        "print(gpu_index_flat.ntotal, \"added.\")"
      ],
      "id": "f879c40b"
    },
    {
      "cell_type": "code",
      "execution_count": null,
      "metadata": {
        "id": "7af6b376",
        "colab": {
          "base_uri": "https://localhost:8080/"
        },
        "outputId": "60e5fee1-4e7b-4644-d66e-71a74af7852b"
      },
      "outputs": [
        {
          "output_type": "stream",
          "name": "stdout",
          "text": [
            "Moving index to gpu before training\n",
            "Number of GPUs: 1\n",
            "Now the index in on GPU.\n",
            "Training complete!\n",
            "8238 added.\n"
          ]
        }
      ],
      "source": [
        "# Multiple GPUs\n",
        "\n",
        "import faiss\n",
        "\n",
        "embedding_size = 384\n",
        "n_clusters = 64\n",
        "top_k_hits = 10\n",
        "\n",
        "\n",
        "quantizer = faiss.IndexFlatL2(embedding_size)\n",
        "index = faiss.IndexIVFFlat(quantizer, embedding_size, n_clusters)\n",
        "\n",
        "# Number of clusters to explorer at search time.\n",
        "# We will search for nearest neighbors in 8 clusters\n",
        "index.nprobe = 8\n",
        "\n",
        "\n",
        "print(\"Moving index to gpu before training\")\n",
        "\n",
        "ngpus = faiss.get_num_gpus()\n",
        "print(\"Number of GPUs:\", ngpus)\n",
        "\n",
        "gpu_index_flat = faiss.index_cpu_to_all_gpus(index)\n",
        "print(\"Now the index in on GPU.\")\n",
        "\n",
        "# Train the index to find a suitable clustering\n",
        "assert not gpu_index_flat.is_trained\n",
        "gpu_index_flat.train(corpus_embeddings)\n",
        "assert gpu_index_flat.is_trained\n",
        "print(\"Training complete!\")\n",
        "\n",
        "# Add vectors to the index\n",
        "gpu_index_flat.add(corpus_embeddings)\n",
        "print(gpu_index_flat.ntotal, \"added.\")"
      ],
      "id": "7af6b376"
    }
  ],
  "metadata": {
    "accelerator": "GPU",
    "colab": {
      "provenance": [],
      "gpuType": "T4",
      "include_colab_link": true
    },
    "kernelspec": {
      "display_name": "Python 3",
      "name": "python3"
    },
    "language_info": {
      "codemirror_mode": {
        "name": "ipython",
        "version": 3
      },
      "file_extension": ".py",
      "mimetype": "text/x-python",
      "name": "python",
      "nbconvert_exporter": "python",
      "pygments_lexer": "ipython3",
      "version": "3.7.5"
    }
  },
  "nbformat": 4,
  "nbformat_minor": 5
}
