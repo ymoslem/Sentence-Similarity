{
  "cells": [
    {
      "cell_type": "markdown",
      "metadata": {
        "id": "view-in-github",
        "colab_type": "text"
      },
      "source": [
        "<a href=\"https://colab.research.google.com/github/ymoslem/Sentence-Similarity/blob/main/Semantic_Search_Faiss_Multilingual.ipynb\" target=\"_parent\"><img src=\"https://colab.research.google.com/assets/colab-badge.svg\" alt=\"Open In Colab\"/></a>"
      ]
    },
    {
      "cell_type": "markdown",
      "source": [
        "# Multilingual Semantic Search with Faiss\n",
        "\n",
        "This notebook demonstrates how to use Faiss and Sentence-Transformers to perform multilingual semantic search. We have a query in English (\"education and schools in Germany\") and we retrieve top results from documents in the Ukrainian language.\n",
        "\n",
        "* Faiss: https://github.com/facebookresearch/faiss\n",
        "* Faiss tutorial: https://www.pinecone.io/learn/series/faiss/faiss-tutorial/\n",
        "* Sentence-Transformers: https://github.com/UKPLab/sentence-transformers\n",
        "* Sentence-Transformers documentation: https://sbert.net/\n",
        "\n",
        "* Notebooks for some other similarity techniques [here](https://github.com/ymoslem/Sentence-Similarity)."
      ],
      "metadata": {
        "id": "pwP51drINgo0"
      },
      "id": "pwP51drINgo0"
    },
    {
      "cell_type": "code",
      "execution_count": null,
      "metadata": {
        "id": "PaWDsWhfMbT1"
      },
      "outputs": [],
      "source": [
        "!pip3 install faiss-gpu sentence_transformers -q"
      ],
      "id": "PaWDsWhfMbT1"
    },
    {
      "cell_type": "code",
      "execution_count": null,
      "metadata": {
        "colab": {
          "base_uri": "https://localhost:8080/"
        },
        "id": "1O6NDId7KRwm",
        "outputId": "28a02ef6-c060-47ad-beee-e174b0d0ac87"
      },
      "outputs": [
        {
          "output_type": "stream",
          "name": "stdout",
          "text": [
            "/content/Notion-Scraper/output\n",
            "Education\t     Ірландія.json  Нідерланди.json  Угорщина.json\n",
            "Австрія.json\t     Ісландія.json  Німеччина.json   Україна.json\n",
            "Аргентина.json\t     Іспанія.json   Норвегія.json    Фінляндія.json\n",
            "Бельгія.json\t     Італія.json    Польща.json      Франція.json\n",
            "Болгарія.json\t     Канада.json    Португалія.json  Хорватія.json\n",
            "Великобританія.json  Кіпр.json\t    Румунія.json     Чехія.json\n",
            "Греція.json\t     Країна.json    Сербія.json      Чорногорія.json\n",
            "Грузія.json\t     Латвія.json    Словаччина.json  Швейцарія.json\n",
            "Данія.json\t     Литва.json     Словенія.json    Швеція.json\n",
            "Естонія.json\t     Мексика.json   США.json\n",
            "Ізраїль.json\t     Молдова.json   Туреччина.json\n"
          ]
        }
      ],
      "source": [
        "# Download files\n",
        "!git clone https://github.com/ymoslem/Notion-Scraper.git -q\n",
        "\n",
        "%cd Notion-Scraper/output/\n",
        "!ls"
      ],
      "id": "1O6NDId7KRwm"
    },
    {
      "cell_type": "code",
      "execution_count": null,
      "metadata": {
        "colab": {
          "base_uri": "https://localhost:8080/"
        },
        "id": "49035623",
        "outputId": "261e0cb2-02e8-45d3-ce7e-ee5b9fe92ba4"
      },
      "outputs": [
        {
          "output_type": "execute_result",
          "data": {
            "text/plain": [
              "[('Якщо ви постійно проживали в Україні і виїхали з країни, щоб уникнути війни з 24 лютого 2022 року, ви маєте право на тимчасовий захист відповідно до Виконавчого рішення Ради (ЄС) 2022/382 від 4 березня 2022 року, що встановлює наявність масового притоку переміщених осіб з України у розумінні статті 5 Директиви 2001/55/ЄС та має наслідком введення тимчасового захисту (Council Implementing Decision (EU) 2022/382 of 4 March 2022 establishing the existence of a mass influx of displaced persons from Ukraine within the meaning of Article 5 of Directive 2001/55/EC, and having the effect of introducing temporary protection).',\n",
              "  'Кіпр',\n",
              "  'Загальна інформація',\n",
              "  'https://uahelpinfo.notion.site/4fee11cb7559421b8b2a8d60ab26950a'),\n",
              " ('Тимчасовий захист триватиме щонайменше один рік і може бути продовжений залежно від ситуації в Україні. Права згідно з Директивою про тимчасовий захист включають: дозвіл на проживання, доступ до ринку праці та житла, медичну допомогу та доступ до освіти для дітей.',\n",
              "  'Кіпр',\n",
              "  'Загальна інформація',\n",
              "  'https://uahelpinfo.notion.site/4fee11cb7559421b8b2a8d60ab26950a'),\n",
              " ('Відповідну заяву про тимчасовий захист можна подати в будь-якому районному управлінні імміграційної поліції Кіпру.',\n",
              "  'Кіпр',\n",
              "  'Загальна інформація',\n",
              "  'https://uahelpinfo.notion.site/4fee11cb7559421b8b2a8d60ab26950a'),\n",
              " ('Бланк заяви: TEMPORARY PROTECTION APPLICATION (EN).docx Для відкриття цього файлу потрібен Microsoft Word (Розмір: 31,87 Кб)',\n",
              "  'Кіпр',\n",
              "  'Загальна інформація',\n",
              "  'https://uahelpinfo.notion.site/4fee11cb7559421b8b2a8d60ab26950a'),\n",
              " ('Українці звільняються від обов’язку заповнювати «Cyprus Flight Pass», крім того, вони звільнені від тестування на Covid-19 перед відльотом до Кіпру, однак, після прибуття на Кіпр їм доведеться пройти тест на Covid-19 за державний кошт.',\n",
              "  'Кіпр',\n",
              "  'Загальна інформація',\n",
              "  'https://uahelpinfo.notion.site/4fee11cb7559421b8b2a8d60ab26950a')]"
            ]
          },
          "metadata": {},
          "execution_count": 4
        }
      ],
      "source": [
        "import json\n",
        "import os\n",
        "\n",
        "work_dir = \".\"\n",
        "json_files = [file_name for file_name in os.listdir(work_dir) if file_name.endswith(\".json\")]\n",
        "\n",
        "corpus = []\n",
        "\n",
        "for json_file in json_files:\n",
        "  with open(os.path.join(work_dir,json_file)) as json_input:\n",
        "    json_content = json.load(json_input)\n",
        "    for item in json_content:\n",
        "      url = item[\"url\"]\n",
        "      text_paragraphs = item[\"text\"].split(\"\\n\")\n",
        "      text_paragraphs = [(para, json_file[:-5], item[\"topic\"], item[\"url\"]) for para in text_paragraphs if len(para.split())>10 \\\n",
        "                     and (para, json_file[:-5], item[\"topic\"], item[\"url\"]) not in corpus]\n",
        "      corpus += text_paragraphs\n",
        "\n",
        "corpus[0:5]"
      ],
      "id": "49035623"
    },
    {
      "cell_type": "code",
      "execution_count": null,
      "metadata": {
        "id": "896a83a6"
      },
      "outputs": [],
      "source": [
        "from sentence_transformers import SentenceTransformer\n",
        "\n",
        "corpus_sentences = [item[0] for item in corpus]\n",
        "\n",
        "embedder = SentenceTransformer(\"paraphrase-multilingual-MiniLM-L12-v2\",\n",
        "                               device=\"cuda\")\n",
        "\n",
        "# Change the max length to 512\n",
        "embedder.max_seq_length = 512"
      ],
      "id": "896a83a6"
    },
    {
      "cell_type": "code",
      "source": [
        "# Encode the sentences into embeddings\n",
        "corpus_embeddings = embedder.encode(corpus_sentences,\n",
        "                                    convert_to_numpy=True,\n",
        "                                    show_progress_bar=True)"
      ],
      "metadata": {
        "id": "sZ_PCGUzv2vs",
        "colab": {
          "base_uri": "https://localhost:8080/",
          "height": 49,
          "referenced_widgets": [
            "2e4a33a0f7f74eaf9430a31ad6a12cda",
            "495d9ee4f07d4ba99a02e18d3508c73f",
            "e711bf223a594e3da579717bc2dc7192",
            "02fd8b9f9ee54c91b62db712026cc954",
            "f266a00bd38a4698a084377341688a9d",
            "cc14214bb177429e94aea83147a41276",
            "e1af658017b94ecdad420ac828614379",
            "3268379f635a4ee08a812115a71ea807",
            "fbc8b9ba4ac24cfba548d789966083c5",
            "5e3a92f8d04d45698410b413e224eedf",
            "d3dd1c9402b0414483d027cbabe51be9"
          ]
        },
        "outputId": "7229c217-e076-4d25-8459-bc4cdfd545c3"
      },
      "id": "sZ_PCGUzv2vs",
      "execution_count": null,
      "outputs": [
        {
          "output_type": "display_data",
          "data": {
            "text/plain": [
              "Batches:   0%|          | 0/258 [00:00<?, ?it/s]"
            ],
            "application/vnd.jupyter.widget-view+json": {
              "version_major": 2,
              "version_minor": 0,
              "model_id": "2e4a33a0f7f74eaf9430a31ad6a12cda"
            }
          },
          "metadata": {}
        }
      ]
    },
    {
      "cell_type": "code",
      "execution_count": null,
      "metadata": {
        "id": "5e285b2f"
      },
      "outputs": [],
      "source": [
        "# Save corpus_embeddings to a file to be able to load later\n",
        "import pickle\n",
        "\n",
        "with open(\"corpus_embeddings_uk.pkl\", \"wb\") as embeddings:\n",
        "  pickle.dump({'corpus': corpus, 'embeddings': corpus_embeddings}, embeddings)"
      ],
      "id": "5e285b2f"
    },
    {
      "cell_type": "code",
      "execution_count": null,
      "metadata": {
        "id": "46b69fdb"
      },
      "outputs": [],
      "source": [
        "# To load the embeddings later from the file instead of creating from scratch\n",
        "import pickle\n",
        "\n",
        "with open(\"corpus_embeddings_uk.pkl\", \"rb\") as embeddings:\n",
        "  data = pickle.load(embeddings)\n",
        "  corpus = data['corpus']\n",
        "  corpus_sentences = [item[0] for item in corpus]\n",
        "  corpus_embeddings = data['embeddings']"
      ],
      "id": "46b69fdb"
    },
    {
      "cell_type": "code",
      "execution_count": null,
      "metadata": {
        "id": "f039fd50",
        "outputId": "cce4d36c-7fdc-48bb-dddc-af156d656597",
        "colab": {
          "base_uri": "https://localhost:8080/"
        }
      },
      "outputs": [
        {
          "output_type": "execute_result",
          "data": {
            "text/plain": [
              "(8238, 384)"
            ]
          },
          "metadata": {},
          "execution_count": 9
        }
      ],
      "source": [
        "corpus_embeddings.shape"
      ],
      "id": "f039fd50"
    },
    {
      "cell_type": "code",
      "execution_count": null,
      "metadata": {
        "id": "e0459721",
        "outputId": "6281ee39-167d-4e19-9630-0c7e9d013fa1",
        "colab": {
          "base_uri": "https://localhost:8080/"
        }
      },
      "outputs": [
        {
          "output_type": "stream",
          "name": "stdout",
          "text": [
            "Start creating FAISS index\n",
            "Number of embeddings indexed: 8238\n"
          ]
        }
      ],
      "source": [
        "import faiss\n",
        "\n",
        "embedding_size = 384  # as in the model\n",
        "n_clusters = 128\n",
        "top_k_hits = 20\n",
        "\n",
        "quantizer = faiss.IndexFlatL2(embedding_size)\n",
        "index = faiss.IndexIVFFlat(quantizer, embedding_size, n_clusters)\n",
        "\n",
        "# Number of clusters to explorer at search time.\n",
        "# We will search for nearest neighbors in 8 clusters\n",
        "index.nprobe = 8\n",
        "\n",
        "### Create the FAISS index\n",
        "print(\"Start creating FAISS index\")\n",
        "\n",
        "# Train the index to find a suitable clustering\n",
        "index.train(corpus_embeddings)\n",
        "\n",
        "# Add all embeddings to the index\n",
        "index.add(corpus_embeddings)\n",
        "\n",
        "print(\"Number of embeddings indexed:\", index.ntotal)"
      ],
      "id": "e0459721"
    },
    {
      "cell_type": "code",
      "execution_count": null,
      "metadata": {
        "id": "7484600b",
        "outputId": "225f015b-c547-46da-e63b-1be18975ea13",
        "colab": {
          "base_uri": "https://localhost:8080/"
        }
      },
      "outputs": [
        {
          "output_type": "stream",
          "name": "stdout",
          "text": [
            "[[3946 3945 4077 6097 3947 8115 4052 3949 2064 6093 3939 6223 6277 8024\n",
            "  4050 1080  643  857 1799 1624]] \n",
            "\n",
            "[(9.90493, 3946), (12.193857, 3945), (18.186539, 4077), (18.633497, 6097), (18.761229, 3947), (18.84115, 8115), (19.09331, 4052), (19.170555, 3949), (19.265438, 2064), (19.340284, 6093), (19.443645, 3939), (19.470036, 6223), (19.77827, 6277), (19.842066, 8024), (19.857483, 4050), (19.932281, 643), (19.932281, 857), (19.932281, 1080), (19.932281, 1624), (19.932281, 1799)] \n",
            "\n",
            "Як влаштувати дитину до школи в Німеччині? | Розповідь інсайдера |Відповіді на всі запитання |\n",
            "Read more: Німеччина - Діти: https://uahelpinfo.notion.site/bb09aeaa08fa4e309e7fe8136427e686\n",
            "Distance: 9.9\n",
            "\n",
            "Після оформлення та отримання відповідних документів, виникнуть питання в яку школу віддавати дітей і яким чином тут це налаштовано. Більше інформації про систему освіти у Німеччині можна прочитати тут.\n",
            "Read more: Німеччина - Діти: https://uahelpinfo.notion.site/bb09aeaa08fa4e309e7fe8136427e686\n",
            "Distance: 12.19\n",
            "\n",
            "Група вивчення німецької для переселенців. Курс для абсолютних початківців. Щочетверга о 10 годині віденського часу. https://t.me/deutschfueraliens_kurs\n",
            "Read more: Німеччина - Освіта та мовні курси: https://uahelpinfo.notion.site/d6214a719110464d88cb2609515d7a1e\n",
            "Distance: 18.19\n",
            "\n",
            "Австрійські школи розглядають українських дітей як особливих учнів (не ставлять оцінки, домашнє завдання не дають), де основна увага у навчальному процесі приділяється саме мові та адаптації, а не фактичному навчанню, бо без мови – складно. Якщо ціль саме предмети та навчання, можно спробувати онлайн-уроки від Міносвіти\n",
            "Read more: Австрія - Діти: https://uahelpinfo.notion.site/309b24d5514d413cabed5251f61f749e\n",
            "Distance: 18.63\n",
            "\n",
            "Українська діаспора у Німеччині, та Берліні зокрема, дуже велика. Молоді батьки зацікавлені у спілкуванні дітей рідною мовою серед земляків-однолітків, залученню їх до української культури та традицій. Саме тому у Берліні є українська скаутська організація Пласт та Українська суботня школа.\n",
            "Read more: Німеччина - Діти: https://uahelpinfo.notion.site/bb09aeaa08fa4e309e7fe8136427e686\n",
            "Distance: 18.76\n",
            "\n",
            "освітня ініціатива для учнів початкової та середньої школи України: від школи Базис разом з Viber-спільнотою Школа.інфо\n",
            "Read more: Україна - Діти: https://uahelpinfo.notion.site/aeabb270f91e4e73b0700c2cc23fb8a6\n",
            "Distance: 18.84\n",
            "\n",
            "Університет Людвіга Максиміліян (ЛМУ) в Мюнхені збирає пожертви на підтримку студентів та професорів різними способами (разова фінансова підтримка / стипендії / допомога для боротьби з німецькою владою / консультуванням щодо німецьких класів та варіантів навчання в ЛМУ).\n",
            "Read more: Німеччина - Освіта та мовні курси: https://uahelpinfo.notion.site/d6214a719110464d88cb2609515d7a1e\n",
            "Distance: 19.09\n",
            "\n",
            "Зверніть увагу, що для відвідування школи в Німеччині дітям зазвичай потрібно довести, що вони вакциновані проти кору. Будь ласка, зверніться до місцевої влади, де ваші діти можуть зробити щеплення.\n",
            "Read more: Німеччина - Діти: https://uahelpinfo.notion.site/bb09aeaa08fa4e309e7fe8136427e686\n",
            "Distance: 19.17\n",
            "\n",
            "Учні 11 класів-випускники! Зверніться до \"Українського дому\" у Роттердамі. Для них буде створена окрема школа. Зараз ми визначаємося з її місцезнаходженням.\n",
            "Read more: Нідерланди - Освіта та мовні курси: https://uahelpinfo.notion.site/7f65b976009e4ec2b402c89d4f21702a\n",
            "Distance: 19.27\n",
            "\n",
            "Як правило, діти зараховуються безпосередньо у відповідні школи. Огляд австрійської системи шкільної освіти та наявних шкіл можна знайти тут 11 мовами (на жаль, поки що не українською). Українська версія на даний момент готується і незабаром буде опублікована тут. На даний момент українським біженцям необхідно безпосередньо зв'язатися з відповідним Департаментом освіти у федеральній землі, в якій вони перебувають. Департаменти освіти в даний час керують зарахуванням учнів на навчання і мають найактуальнішу інформацію. Нижче наведені контактні дані Департаментів освіти всіх федеральних земель:\n",
            "Read more: Австрія - Діти: https://uahelpinfo.notion.site/309b24d5514d413cabed5251f61f749e\n",
            "Distance: 19.34\n",
            "\n",
            "Після офіційної реєстрації ви маєте право на місце у дитячому садку. Як шукати місце у дитячому садочку Берліна? Читайте тут.\n",
            "Read more: Німеччина - Діти: https://uahelpinfo.notion.site/bb09aeaa08fa4e309e7fe8136427e686\n",
            "Distance: 19.44\n",
            "\n",
            "Курси німецької мови Caritas у Відні. Детальну інформацію можна отримати на сайті www.caritas-wien.at\n",
            "Read more: Австрія - Освіта та мовні курси: https://uahelpinfo.notion.site/c240136a43c54924ae2ad339029d29b8\n",
            "Distance: 19.47\n",
            "\n",
            "Підтвердження іноземних дипломів для роботи в Австрії: лікарі, юристи, інші дипломи, перекласти документи з української на німецьку\n",
            "Read more: Австрія - Корисна інформація: https://uahelpinfo.notion.site/84eb4752f3474e2a9dca53992271f685\n",
            "Distance: 19.78\n",
            "\n",
            "FB - УКРАЇНСЬКА ШКОЛА «ЕЛЛІСІВ» В ОСЛО / DEN UKRAINSKE SKOLEN «ELLISIV» I OSLO https://www.facebook.com/ellisiv.ukrainian.school.oslo.norway/\n",
            "Read more: Норвегія - Корисна інформація: https://uahelpinfo.notion.site/24ff5200f0eb46499939cd4efccad2f0\n",
            "Distance: 19.84\n",
            "\n",
            "Європейський університет Віадріна Франкфурт (ODER) пропонує спеціальні заняття з підготовки до українських біженців, а також можливість там вивчити. Це також допомагає українцям стосовно студентського житла.\n",
            "Read more: Німеччина - Освіта та мовні курси: https://uahelpinfo.notion.site/d6214a719110464d88cb2609515d7a1e\n",
            "Distance: 19.86\n",
            "\n",
            "Вивчення німецької мови зі знижкою 99,9% від інституту Ґете в Україні. Поки місця розібрали, але, можливо, вони ще будуть пізніше: https://www.goethe.de/ins/ua/uk/m/spr/kur/aka.html\n",
            "Read more: Швейцарія - Освіта та мовні курси: https://uahelpinfo.notion.site/fd06d78578414958b227c7b3ac72b009\n",
            "Distance: 19.93\n",
            "\n",
            "Вивчення німецької мови зі знижкою 99,9% від інституту Ґете в Україні. Поки місця розібрали, але, можливо, вони ще будуть пізніше: https://www.goethe.de/ins/ua/uk/m/spr/kur/aka.html\n",
            "Read more: Словаччина - Освіта та мовні курси: https://uahelpinfo.notion.site/11b512af8a994b37a82691edc9faff9e\n",
            "Distance: 19.93\n",
            "\n",
            "Вивчення німецької мови зі знижкою 99,9% від інституту Ґете в Україні. Поки місця розібрали, але, можливо, вони ще будуть пізніше: https://www.goethe.de/ins/ua/uk/m/spr/kur/aka.html\n",
            "Read more: Угорщина - Освіта та мовні курси: https://uahelpinfo.notion.site/492c534b8b654ad687b006b5627e5d5a\n",
            "Distance: 19.93\n",
            "\n",
            "Вивчення німецької мови зі знижкою 99,9% від інституту Ґете в Україні. Поки місця розібрали, але, можливо, вони ще будуть пізніше: https://www.goethe.de/ins/ua/uk/m/spr/kur/aka.html\n",
            "Read more: Аргентина - Освіта та мовні курси: https://uahelpinfo.notion.site/704d1ae7ae5b4c6b8a2aab41ba25f2eb\n",
            "Distance: 19.93\n",
            "\n",
            "Вивчення німецької мови зі знижкою 99,9% від інституту Ґете в Україні. Поки місця розібрали, але, можливо, вони ще будуть пізніше: https://www.goethe.de/ins/ua/uk/m/spr/kur/aka.html\n",
            "Read more: Швеція - Освіта та мовні курси: https://uahelpinfo.notion.site/14c4eb3753f4441aab19e2abb8ab7832\n",
            "Distance: 19.93\n",
            "\n"
          ]
        }
      ],
      "source": [
        "from sentence_transformers import SentenceTransformer\n",
        "\n",
        "queries = [\"education and schools in Germany\"]\n",
        "model_name = \"paraphrase-multilingual-MiniLM-L12-v2\"\n",
        "model = SentenceTransformer(model_name)\n",
        "\n",
        "query_embeddings = model.encode(queries)\n",
        "\n",
        "# Search in FAISS. It returns a matrix with distances and corpus ids.\n",
        "distances, corpus_ids = index.search(query_embeddings, k=top_k_hits)\n",
        "\n",
        "print(corpus_ids, \"\\n\")\n",
        "\n",
        "results = sorted([result for result in zip(distances.flatten(), corpus_ids.flatten())])\n",
        "print(results, \"\\n\")\n",
        "\n",
        "for distance, idx in results:\n",
        "  print(corpus_sentences[idx])\n",
        "  print(f\"Read more: {corpus[idx][1]} - {corpus[idx][2]}: {corpus[idx][3]}\")\n",
        "  print(f\"Distance: {round(distance.item(), 2)}\\n\")"
      ],
      "id": "7484600b"
    },
    {
      "cell_type": "code",
      "source": [
        "results[:5]"
      ],
      "metadata": {
        "colab": {
          "base_uri": "https://localhost:8080/"
        },
        "id": "UKOHBe70Sf_C",
        "outputId": "deec5e1d-9c9f-41ad-dc72-62e5da7e53e6"
      },
      "id": "UKOHBe70Sf_C",
      "execution_count": null,
      "outputs": [
        {
          "output_type": "execute_result",
          "data": {
            "text/plain": [
              "[(9.90493, 3946),\n",
              " (12.193857, 3945),\n",
              " (18.186539, 4077),\n",
              " (18.633497, 6097),\n",
              " (18.761229, 3947)]"
            ]
          },
          "metadata": {},
          "execution_count": 12
        }
      ]
    },
    {
      "cell_type": "code",
      "source": [
        "# Reranking input [(query, paragraph), (query, paragraph), (query, paragraph), ...]\n",
        "\n",
        "reranker_input = [(queries[0], corpus[result[1]][0]) for result in results]\n",
        "reranker_input[:5]"
      ],
      "metadata": {
        "colab": {
          "base_uri": "https://localhost:8080/"
        },
        "id": "DdHkGHkAT1rw",
        "outputId": "2451c3b4-83ba-4741-c095-bfc360de743a"
      },
      "id": "DdHkGHkAT1rw",
      "execution_count": null,
      "outputs": [
        {
          "output_type": "execute_result",
          "data": {
            "text/plain": [
              "[('education and schools in Germany',\n",
              "  'Як влаштувати дитину до школи в Німеччині? | Розповідь інсайдера |Відповіді на всі запитання |'),\n",
              " ('education and schools in Germany',\n",
              "  'Після оформлення та отримання відповідних документів, виникнуть питання в яку школу віддавати дітей і яким чином тут це налаштовано. Більше інформації про систему освіти у Німеччині можна прочитати тут.'),\n",
              " ('education and schools in Germany',\n",
              "  'Група вивчення німецької для переселенців. Курс для абсолютних початківців. Щочетверга о 10 годині віденського часу. https://t.me/deutschfueraliens_kurs'),\n",
              " ('education and schools in Germany',\n",
              "  'Австрійські школи розглядають українських дітей як особливих учнів (не ставлять оцінки, домашнє завдання не дають), де основна увага у навчальному процесі приділяється саме мові та адаптації, а не фактичному навчанню, бо без мови – складно. Якщо ціль саме предмети та навчання, можно спробувати онлайн-уроки від Міносвіти'),\n",
              " ('education and schools in Germany',\n",
              "  'Українська діаспора у Німеччині, та Берліні зокрема, дуже велика. Молоді батьки зацікавлені у спілкуванні дітей рідною мовою серед земляків-однолітків, залученню їх до української культури та традицій. Саме тому у Берліні є українська скаутська організація Пласт та Українська суботня школа.')]"
            ]
          },
          "metadata": {},
          "execution_count": 13
        }
      ]
    },
    {
      "cell_type": "code",
      "source": [
        "# [Optional] Reranking\n",
        "# After retrieving the top-k candidates, we can re-rank them with a cross-encoder model\n",
        "\n",
        "from sentence_transformers import CrossEncoder\n",
        "\n",
        "model = CrossEncoder(\"amberoad/bert-multilingual-passage-reranking-msmarco\", max_length=512)\n",
        "\n",
        "reranker_scores = model.predict(reranker_input)\n",
        "\n",
        "# label 0: not relevant, and label 1: relevant\n",
        "reranker_scores"
      ],
      "metadata": {
        "colab": {
          "base_uri": "https://localhost:8080/"
        },
        "id": "0ek6bBXPRDhW",
        "outputId": "6d5c2789-154d-4fad-984a-a01e87273ad5"
      },
      "id": "0ek6bBXPRDhW",
      "execution_count": 18,
      "outputs": [
        {
          "output_type": "execute_result",
          "data": {
            "text/plain": [
              "array([[ 3.5964844 , -2.7340245 ],\n",
              "       [ 0.9109123 , -0.46547103],\n",
              "       [ 5.148391  , -4.193904  ],\n",
              "       [ 4.597375  , -3.6226785 ],\n",
              "       [ 4.9956627 , -4.025356  ],\n",
              "       [ 5.5680523 , -4.7244687 ],\n",
              "       [ 2.605761  , -1.737217  ],\n",
              "       [ 3.3223052 , -2.395006  ],\n",
              "       [ 4.561674  , -3.5567892 ],\n",
              "       [ 4.5246496 , -3.4602792 ],\n",
              "       [ 5.5370965 , -4.5752387 ],\n",
              "       [ 5.113559  , -4.1691885 ],\n",
              "       [ 5.7684865 , -4.8660135 ],\n",
              "       [ 5.731864  , -4.7733564 ],\n",
              "       [ 4.2481375 , -3.2506895 ],\n",
              "       [ 5.56897   , -4.614217  ],\n",
              "       [ 5.56897   , -4.614217  ],\n",
              "       [ 5.56897   , -4.614217  ],\n",
              "       [ 5.56897   , -4.614217  ],\n",
              "       [ 5.56897   , -4.614217  ]], dtype=float32)"
            ]
          },
          "metadata": {},
          "execution_count": 18
        }
      ]
    },
    {
      "cell_type": "code",
      "source": [
        "# [Optional] Convert logits to probabilities for readability or to apply a threshold\n",
        "\n",
        "import numpy as np\n",
        "\n",
        "# Convert logits to probabilities using the sigmoid function\n",
        "reranker_scores = [1 / (1 + np.exp(-score)) for score in reranker_scores]\n",
        "reranker_scores"
      ],
      "metadata": {
        "colab": {
          "base_uri": "https://localhost:8080/"
        },
        "id": "k73AZlBTOn8s",
        "outputId": "a8c8bfc0-d2dd-443f-d4e6-d48183e38954"
      },
      "id": "k73AZlBTOn8s",
      "execution_count": 24,
      "outputs": [
        {
          "output_type": "execute_result",
          "data": {
            "text/plain": [
              "[array([0.97331184, 0.06099525], dtype=float32),\n",
              " array([0.7131868 , 0.38568872], dtype=float32),\n",
              " array([0.99422485, 0.01486303], dtype=float32),\n",
              " array([0.99002224, 0.02601612], dtype=float32),\n",
              " array([0.9932782 , 0.01754379], dtype=float32),\n",
              " array([0.9961966 , 0.00879735], dtype=float32),\n",
              " array([0.93123144, 0.14966679], dtype=float32),\n",
              " array([0.9651861 , 0.08355431], dtype=float32),\n",
              " array([0.9896634 , 0.02773888], dtype=float32),\n",
              " array([0.9892777 , 0.03046378], dtype=float32),\n",
              " array([0.9960775 , 0.01019875], dtype=float32),\n",
              " array([0.99402136, 0.01522929], dtype=float32),\n",
              " array([0.99688524, 0.00764512], dtype=float32),\n",
              " array([0.9967694 , 0.00838113], dtype=float32),\n",
              " array([0.98591053, 0.03730212], dtype=float32),\n",
              " array([0.9962   , 0.0098127], dtype=float32),\n",
              " array([0.9962   , 0.0098127], dtype=float32),\n",
              " array([0.9962   , 0.0098127], dtype=float32),\n",
              " array([0.9962   , 0.0098127], dtype=float32),\n",
              " array([0.9962   , 0.0098127], dtype=float32)]"
            ]
          },
          "metadata": {},
          "execution_count": 24
        }
      ]
    },
    {
      "cell_type": "code",
      "source": [
        "# full hits from the corpus with links\n",
        "full_hits = [[result[0], corpus[result[1]]] for result in results]\n",
        "reranker_output = zip(reranker_scores, full_hits)\n",
        "\n",
        "# Compare the results before and after reranking\n",
        "# for score, hit in zip(reranker_scores, full_hits):\n",
        "#   print(score, hit)\n",
        "\n",
        "sorted_reranked_output = sorted([(score[1], hit[1]) for score, hit in reranker_output], reverse=True)\n",
        "\n",
        "for score, hit in sorted_reranked_output:\n",
        "  print(f\"{hit[0]} \\nRead more: {hit[1]} - {hit[2]}: {hit[3]} \\nScore: {round(score.item(), 2)}\\n\")"
      ],
      "metadata": {
        "colab": {
          "base_uri": "https://localhost:8080/"
        },
        "id": "VMKkxCQfd7Nv",
        "outputId": "822b36e3-5826-4872-e867-65bb465ae86d"
      },
      "id": "VMKkxCQfd7Nv",
      "execution_count": 25,
      "outputs": [
        {
          "output_type": "stream",
          "name": "stdout",
          "text": [
            "Після оформлення та отримання відповідних документів, виникнуть питання в яку школу віддавати дітей і яким чином тут це налаштовано. Більше інформації про систему освіти у Німеччині можна прочитати тут. \n",
            "Read more: Німеччина - Діти: https://uahelpinfo.notion.site/bb09aeaa08fa4e309e7fe8136427e686 \n",
            "Score: 0.39\n",
            "\n",
            "Університет Людвіга Максиміліян (ЛМУ) в Мюнхені збирає пожертви на підтримку студентів та професорів різними способами (разова фінансова підтримка / стипендії / допомога для боротьби з німецькою владою / консультуванням щодо німецьких класів та варіантів навчання в ЛМУ). \n",
            "Read more: Німеччина - Освіта та мовні курси: https://uahelpinfo.notion.site/d6214a719110464d88cb2609515d7a1e \n",
            "Score: 0.15\n",
            "\n",
            "Зверніть увагу, що для відвідування школи в Німеччині дітям зазвичай потрібно довести, що вони вакциновані проти кору. Будь ласка, зверніться до місцевої влади, де ваші діти можуть зробити щеплення. \n",
            "Read more: Німеччина - Діти: https://uahelpinfo.notion.site/bb09aeaa08fa4e309e7fe8136427e686 \n",
            "Score: 0.08\n",
            "\n",
            "Як влаштувати дитину до школи в Німеччині? | Розповідь інсайдера |Відповіді на всі запитання | \n",
            "Read more: Німеччина - Діти: https://uahelpinfo.notion.site/bb09aeaa08fa4e309e7fe8136427e686 \n",
            "Score: 0.06\n",
            "\n",
            "Європейський університет Віадріна Франкфурт (ODER) пропонує спеціальні заняття з підготовки до українських біженців, а також можливість там вивчити. Це також допомагає українцям стосовно студентського житла. \n",
            "Read more: Німеччина - Освіта та мовні курси: https://uahelpinfo.notion.site/d6214a719110464d88cb2609515d7a1e \n",
            "Score: 0.04\n",
            "\n",
            "Як правило, діти зараховуються безпосередньо у відповідні школи. Огляд австрійської системи шкільної освіти та наявних шкіл можна знайти тут 11 мовами (на жаль, поки що не українською). Українська версія на даний момент готується і незабаром буде опублікована тут. На даний момент українським біженцям необхідно безпосередньо зв'язатися з відповідним Департаментом освіти у федеральній землі, в якій вони перебувають. Департаменти освіти в даний час керують зарахуванням учнів на навчання і мають найактуальнішу інформацію. Нижче наведені контактні дані Департаментів освіти всіх федеральних земель: \n",
            "Read more: Австрія - Діти: https://uahelpinfo.notion.site/309b24d5514d413cabed5251f61f749e \n",
            "Score: 0.03\n",
            "\n",
            "Учні 11 класів-випускники! Зверніться до \"Українського дому\" у Роттердамі. Для них буде створена окрема школа. Зараз ми визначаємося з її місцезнаходженням. \n",
            "Read more: Нідерланди - Освіта та мовні курси: https://uahelpinfo.notion.site/7f65b976009e4ec2b402c89d4f21702a \n",
            "Score: 0.03\n",
            "\n",
            "Австрійські школи розглядають українських дітей як особливих учнів (не ставлять оцінки, домашнє завдання не дають), де основна увага у навчальному процесі приділяється саме мові та адаптації, а не фактичному навчанню, бо без мови – складно. Якщо ціль саме предмети та навчання, можно спробувати онлайн-уроки від Міносвіти \n",
            "Read more: Австрія - Діти: https://uahelpinfo.notion.site/309b24d5514d413cabed5251f61f749e \n",
            "Score: 0.03\n",
            "\n",
            "Українська діаспора у Німеччині, та Берліні зокрема, дуже велика. Молоді батьки зацікавлені у спілкуванні дітей рідною мовою серед земляків-однолітків, залученню їх до української культури та традицій. Саме тому у Берліні є українська скаутська організація Пласт та Українська суботня школа. \n",
            "Read more: Німеччина - Діти: https://uahelpinfo.notion.site/bb09aeaa08fa4e309e7fe8136427e686 \n",
            "Score: 0.02\n",
            "\n",
            "Курси німецької мови Caritas у Відні. Детальну інформацію можна отримати на сайті www.caritas-wien.at \n",
            "Read more: Австрія - Освіта та мовні курси: https://uahelpinfo.notion.site/c240136a43c54924ae2ad339029d29b8 \n",
            "Score: 0.02\n",
            "\n",
            "Група вивчення німецької для переселенців. Курс для абсолютних початківців. Щочетверга о 10 годині віденського часу. https://t.me/deutschfueraliens_kurs \n",
            "Read more: Німеччина - Освіта та мовні курси: https://uahelpinfo.notion.site/d6214a719110464d88cb2609515d7a1e \n",
            "Score: 0.01\n",
            "\n",
            "Після офіційної реєстрації ви маєте право на місце у дитячому садку. Як шукати місце у дитячому садочку Берліна? Читайте тут. \n",
            "Read more: Німеччина - Діти: https://uahelpinfo.notion.site/bb09aeaa08fa4e309e7fe8136427e686 \n",
            "Score: 0.01\n",
            "\n",
            "Вивчення німецької мови зі знижкою 99,9% від інституту Ґете в Україні. Поки місця розібрали, але, можливо, вони ще будуть пізніше: https://www.goethe.de/ins/ua/uk/m/spr/kur/aka.html \n",
            "Read more: Швеція - Освіта та мовні курси: https://uahelpinfo.notion.site/14c4eb3753f4441aab19e2abb8ab7832 \n",
            "Score: 0.01\n",
            "\n",
            "Вивчення німецької мови зі знижкою 99,9% від інституту Ґете в Україні. Поки місця розібрали, але, можливо, вони ще будуть пізніше: https://www.goethe.de/ins/ua/uk/m/spr/kur/aka.html \n",
            "Read more: Швейцарія - Освіта та мовні курси: https://uahelpinfo.notion.site/fd06d78578414958b227c7b3ac72b009 \n",
            "Score: 0.01\n",
            "\n",
            "Вивчення німецької мови зі знижкою 99,9% від інституту Ґете в Україні. Поки місця розібрали, але, можливо, вони ще будуть пізніше: https://www.goethe.de/ins/ua/uk/m/spr/kur/aka.html \n",
            "Read more: Угорщина - Освіта та мовні курси: https://uahelpinfo.notion.site/492c534b8b654ad687b006b5627e5d5a \n",
            "Score: 0.01\n",
            "\n",
            "Вивчення німецької мови зі знижкою 99,9% від інституту Ґете в Україні. Поки місця розібрали, але, можливо, вони ще будуть пізніше: https://www.goethe.de/ins/ua/uk/m/spr/kur/aka.html \n",
            "Read more: Словаччина - Освіта та мовні курси: https://uahelpinfo.notion.site/11b512af8a994b37a82691edc9faff9e \n",
            "Score: 0.01\n",
            "\n",
            "Вивчення німецької мови зі знижкою 99,9% від інституту Ґете в Україні. Поки місця розібрали, але, можливо, вони ще будуть пізніше: https://www.goethe.de/ins/ua/uk/m/spr/kur/aka.html \n",
            "Read more: Аргентина - Освіта та мовні курси: https://uahelpinfo.notion.site/704d1ae7ae5b4c6b8a2aab41ba25f2eb \n",
            "Score: 0.01\n",
            "\n",
            "освітня ініціатива для учнів початкової та середньої школи України: від школи Базис разом з Viber-спільнотою Школа.інфо \n",
            "Read more: Україна - Діти: https://uahelpinfo.notion.site/aeabb270f91e4e73b0700c2cc23fb8a6 \n",
            "Score: 0.01\n",
            "\n",
            "FB - УКРАЇНСЬКА ШКОЛА «ЕЛЛІСІВ» В ОСЛО / DEN UKRAINSKE SKOLEN «ELLISIV» I OSLO https://www.facebook.com/ellisiv.ukrainian.school.oslo.norway/ \n",
            "Read more: Норвегія - Корисна інформація: https://uahelpinfo.notion.site/24ff5200f0eb46499939cd4efccad2f0 \n",
            "Score: 0.01\n",
            "\n",
            "Підтвердження іноземних дипломів для роботи в Австрії: лікарі, юристи, інші дипломи, перекласти документи з української на німецьку \n",
            "Read more: Австрія - Корисна інформація: https://uahelpinfo.notion.site/84eb4752f3474e2a9dca53992271f685 \n",
            "Score: 0.01\n",
            "\n"
          ]
        }
      ]
    },
    {
      "cell_type": "markdown",
      "metadata": {
        "id": "62ec652d"
      },
      "source": [
        "# GPU"
      ],
      "id": "62ec652d"
    },
    {
      "cell_type": "code",
      "execution_count": null,
      "metadata": {
        "id": "e3b915e5"
      },
      "outputs": [],
      "source": [
        "# To load the embeddings later from the file instead of creating from scratch\n",
        "import pickle\n",
        "\n",
        "with open(\"corpus_embeddings_uk.pkl\", \"rb\") as embeddings:\n",
        "    data = pickle.load(embeddings)\n",
        "    corpus = data['corpus']\n",
        "    corpus_sentences = [item[0] for item in corpus]\n",
        "    corpus_embeddings = data['embeddings']"
      ],
      "id": "e3b915e5"
    },
    {
      "cell_type": "code",
      "execution_count": null,
      "metadata": {
        "id": "3add4241"
      },
      "outputs": [],
      "source": [
        "import os\n",
        "\n",
        "# Which GPU to use (if you have multiple GPUs)\n",
        "os.environ[\"CUDA_DEVICE_ORDER\"]=\"PCI_BUS_ID\"\n",
        "os.environ[\"CUDA_VISIBLE_DEVICES\"]=\"0\"  # or \"0,1\" for multiple gpus\n",
        "\n",
        "# For debugging CUDA errors\n",
        "os.environ[\"CUDA_LAUNCH_BLOCKING\"]=\"1\""
      ],
      "id": "3add4241"
    },
    {
      "cell_type": "code",
      "execution_count": null,
      "metadata": {
        "id": "549cd3a0"
      },
      "outputs": [],
      "source": [
        "!echo $CUDA_VISIBLE_DEVICES"
      ],
      "id": "549cd3a0"
    },
    {
      "cell_type": "code",
      "execution_count": null,
      "metadata": {
        "id": "f879c40b"
      },
      "outputs": [],
      "source": [
        "# Single GPU\n",
        "\n",
        "import faiss\n",
        "\n",
        "embedding_size = 384\n",
        "n_clusters = 16\n",
        "top_k_hits = 10\n",
        "\n",
        "quantizer = faiss.IndexFlatL2(embedding_size)\n",
        "index = faiss.IndexIVFFlat(quantizer, embedding_size, n_clusters, faiss.METRIC_L2)\n",
        "\n",
        "# Number of clusters to explorer at search time.\n",
        "# We will search for nearest neighbors in 8 clusters\n",
        "index.nprobe = 8\n",
        "\n",
        "ngpus = faiss.get_num_gpus()\n",
        "print(\"Number of GPUs:\", ngpus)\n",
        "\n",
        "res = faiss.StandardGpuResources()  # use a single GPU\n",
        "gpu_index_flat = faiss.index_cpu_to_gpu(res, 0, index)\n",
        "print(\"Now the index in on GPU.\")\n",
        "\n",
        "# Train the index to find a suitable clustering\n",
        "assert not gpu_index_flat.is_trained\n",
        "gpu_index_flat.train(corpus_embeddings)\n",
        "assert gpu_index_flat.is_trained\n",
        "print(\"Training complete!\")\n",
        "\n",
        "gpu_index_flat.add(corpus_embeddings)  # add vectors to the index\n",
        "print(gpu_index_flat.ntotal, \"added.\")"
      ],
      "id": "f879c40b"
    },
    {
      "cell_type": "code",
      "execution_count": null,
      "metadata": {
        "id": "7af6b376"
      },
      "outputs": [],
      "source": [
        "# Multiple GPUs\n",
        "\n",
        "import faiss\n",
        "\n",
        "embedding_size = 384\n",
        "n_clusters = 64\n",
        "top_k_hits = 10\n",
        "\n",
        "\n",
        "quantizer = faiss.IndexFlatL2(embedding_size)\n",
        "index = faiss.IndexIVFFlat(quantizer, embedding_size, n_clusters)\n",
        "\n",
        "# Number of clusters to explorer at search time.\n",
        "# We will search for nearest neighbors in 8 clusters\n",
        "index.nprobe = 8\n",
        "\n",
        "\n",
        "print(\"Moving index to gpu before training\")\n",
        "\n",
        "ngpus = faiss.get_num_gpus()\n",
        "print(\"Number of GPUs:\", ngpus)\n",
        "\n",
        "gpu_index_flat = faiss.index_cpu_to_all_gpus(index)\n",
        "print(\"Now the index in on GPU.\")\n",
        "\n",
        "# Train the index to find a suitable clustering\n",
        "assert not gpu_index_flat.is_trained\n",
        "gpu_index_flat.train(corpus_embeddings)\n",
        "assert gpu_index_flat.is_trained\n",
        "print(\"Training complete!\")\n",
        "\n",
        "# Add vectors to the index\n",
        "gpu_index_flat.add(corpus_embeddings)\n",
        "print(gpu_index_flat.ntotal, \"added.\")"
      ],
      "id": "7af6b376"
    }
  ],
  "metadata": {
    "accelerator": "GPU",
    "colab": {
      "provenance": [],
      "gpuType": "T4",
      "include_colab_link": true
    },
    "kernelspec": {
      "display_name": "Python 3",
      "name": "python3"
    },
    "language_info": {
      "codemirror_mode": {
        "name": "ipython",
        "version": 3
      },
      "file_extension": ".py",
      "mimetype": "text/x-python",
      "name": "python",
      "nbconvert_exporter": "python",
      "pygments_lexer": "ipython3",
      "version": "3.7.5"
    },
    "widgets": {
      "application/vnd.jupyter.widget-state+json": {
        "2e4a33a0f7f74eaf9430a31ad6a12cda": {
          "model_module": "@jupyter-widgets/controls",
          "model_name": "HBoxModel",
          "model_module_version": "1.5.0",
          "state": {
            "_dom_classes": [],
            "_model_module": "@jupyter-widgets/controls",
            "_model_module_version": "1.5.0",
            "_model_name": "HBoxModel",
            "_view_count": null,
            "_view_module": "@jupyter-widgets/controls",
            "_view_module_version": "1.5.0",
            "_view_name": "HBoxView",
            "box_style": "",
            "children": [
              "IPY_MODEL_495d9ee4f07d4ba99a02e18d3508c73f",
              "IPY_MODEL_e711bf223a594e3da579717bc2dc7192",
              "IPY_MODEL_02fd8b9f9ee54c91b62db712026cc954"
            ],
            "layout": "IPY_MODEL_f266a00bd38a4698a084377341688a9d"
          }
        },
        "495d9ee4f07d4ba99a02e18d3508c73f": {
          "model_module": "@jupyter-widgets/controls",
          "model_name": "HTMLModel",
          "model_module_version": "1.5.0",
          "state": {
            "_dom_classes": [],
            "_model_module": "@jupyter-widgets/controls",
            "_model_module_version": "1.5.0",
            "_model_name": "HTMLModel",
            "_view_count": null,
            "_view_module": "@jupyter-widgets/controls",
            "_view_module_version": "1.5.0",
            "_view_name": "HTMLView",
            "description": "",
            "description_tooltip": null,
            "layout": "IPY_MODEL_cc14214bb177429e94aea83147a41276",
            "placeholder": "​",
            "style": "IPY_MODEL_e1af658017b94ecdad420ac828614379",
            "value": "Batches: 100%"
          }
        },
        "e711bf223a594e3da579717bc2dc7192": {
          "model_module": "@jupyter-widgets/controls",
          "model_name": "FloatProgressModel",
          "model_module_version": "1.5.0",
          "state": {
            "_dom_classes": [],
            "_model_module": "@jupyter-widgets/controls",
            "_model_module_version": "1.5.0",
            "_model_name": "FloatProgressModel",
            "_view_count": null,
            "_view_module": "@jupyter-widgets/controls",
            "_view_module_version": "1.5.0",
            "_view_name": "ProgressView",
            "bar_style": "success",
            "description": "",
            "description_tooltip": null,
            "layout": "IPY_MODEL_3268379f635a4ee08a812115a71ea807",
            "max": 258,
            "min": 0,
            "orientation": "horizontal",
            "style": "IPY_MODEL_fbc8b9ba4ac24cfba548d789966083c5",
            "value": 258
          }
        },
        "02fd8b9f9ee54c91b62db712026cc954": {
          "model_module": "@jupyter-widgets/controls",
          "model_name": "HTMLModel",
          "model_module_version": "1.5.0",
          "state": {
            "_dom_classes": [],
            "_model_module": "@jupyter-widgets/controls",
            "_model_module_version": "1.5.0",
            "_model_name": "HTMLModel",
            "_view_count": null,
            "_view_module": "@jupyter-widgets/controls",
            "_view_module_version": "1.5.0",
            "_view_name": "HTMLView",
            "description": "",
            "description_tooltip": null,
            "layout": "IPY_MODEL_5e3a92f8d04d45698410b413e224eedf",
            "placeholder": "​",
            "style": "IPY_MODEL_d3dd1c9402b0414483d027cbabe51be9",
            "value": " 258/258 [00:11&lt;00:00, 42.89it/s]"
          }
        },
        "f266a00bd38a4698a084377341688a9d": {
          "model_module": "@jupyter-widgets/base",
          "model_name": "LayoutModel",
          "model_module_version": "1.2.0",
          "state": {
            "_model_module": "@jupyter-widgets/base",
            "_model_module_version": "1.2.0",
            "_model_name": "LayoutModel",
            "_view_count": null,
            "_view_module": "@jupyter-widgets/base",
            "_view_module_version": "1.2.0",
            "_view_name": "LayoutView",
            "align_content": null,
            "align_items": null,
            "align_self": null,
            "border": null,
            "bottom": null,
            "display": null,
            "flex": null,
            "flex_flow": null,
            "grid_area": null,
            "grid_auto_columns": null,
            "grid_auto_flow": null,
            "grid_auto_rows": null,
            "grid_column": null,
            "grid_gap": null,
            "grid_row": null,
            "grid_template_areas": null,
            "grid_template_columns": null,
            "grid_template_rows": null,
            "height": null,
            "justify_content": null,
            "justify_items": null,
            "left": null,
            "margin": null,
            "max_height": null,
            "max_width": null,
            "min_height": null,
            "min_width": null,
            "object_fit": null,
            "object_position": null,
            "order": null,
            "overflow": null,
            "overflow_x": null,
            "overflow_y": null,
            "padding": null,
            "right": null,
            "top": null,
            "visibility": null,
            "width": null
          }
        },
        "cc14214bb177429e94aea83147a41276": {
          "model_module": "@jupyter-widgets/base",
          "model_name": "LayoutModel",
          "model_module_version": "1.2.0",
          "state": {
            "_model_module": "@jupyter-widgets/base",
            "_model_module_version": "1.2.0",
            "_model_name": "LayoutModel",
            "_view_count": null,
            "_view_module": "@jupyter-widgets/base",
            "_view_module_version": "1.2.0",
            "_view_name": "LayoutView",
            "align_content": null,
            "align_items": null,
            "align_self": null,
            "border": null,
            "bottom": null,
            "display": null,
            "flex": null,
            "flex_flow": null,
            "grid_area": null,
            "grid_auto_columns": null,
            "grid_auto_flow": null,
            "grid_auto_rows": null,
            "grid_column": null,
            "grid_gap": null,
            "grid_row": null,
            "grid_template_areas": null,
            "grid_template_columns": null,
            "grid_template_rows": null,
            "height": null,
            "justify_content": null,
            "justify_items": null,
            "left": null,
            "margin": null,
            "max_height": null,
            "max_width": null,
            "min_height": null,
            "min_width": null,
            "object_fit": null,
            "object_position": null,
            "order": null,
            "overflow": null,
            "overflow_x": null,
            "overflow_y": null,
            "padding": null,
            "right": null,
            "top": null,
            "visibility": null,
            "width": null
          }
        },
        "e1af658017b94ecdad420ac828614379": {
          "model_module": "@jupyter-widgets/controls",
          "model_name": "DescriptionStyleModel",
          "model_module_version": "1.5.0",
          "state": {
            "_model_module": "@jupyter-widgets/controls",
            "_model_module_version": "1.5.0",
            "_model_name": "DescriptionStyleModel",
            "_view_count": null,
            "_view_module": "@jupyter-widgets/base",
            "_view_module_version": "1.2.0",
            "_view_name": "StyleView",
            "description_width": ""
          }
        },
        "3268379f635a4ee08a812115a71ea807": {
          "model_module": "@jupyter-widgets/base",
          "model_name": "LayoutModel",
          "model_module_version": "1.2.0",
          "state": {
            "_model_module": "@jupyter-widgets/base",
            "_model_module_version": "1.2.0",
            "_model_name": "LayoutModel",
            "_view_count": null,
            "_view_module": "@jupyter-widgets/base",
            "_view_module_version": "1.2.0",
            "_view_name": "LayoutView",
            "align_content": null,
            "align_items": null,
            "align_self": null,
            "border": null,
            "bottom": null,
            "display": null,
            "flex": null,
            "flex_flow": null,
            "grid_area": null,
            "grid_auto_columns": null,
            "grid_auto_flow": null,
            "grid_auto_rows": null,
            "grid_column": null,
            "grid_gap": null,
            "grid_row": null,
            "grid_template_areas": null,
            "grid_template_columns": null,
            "grid_template_rows": null,
            "height": null,
            "justify_content": null,
            "justify_items": null,
            "left": null,
            "margin": null,
            "max_height": null,
            "max_width": null,
            "min_height": null,
            "min_width": null,
            "object_fit": null,
            "object_position": null,
            "order": null,
            "overflow": null,
            "overflow_x": null,
            "overflow_y": null,
            "padding": null,
            "right": null,
            "top": null,
            "visibility": null,
            "width": null
          }
        },
        "fbc8b9ba4ac24cfba548d789966083c5": {
          "model_module": "@jupyter-widgets/controls",
          "model_name": "ProgressStyleModel",
          "model_module_version": "1.5.0",
          "state": {
            "_model_module": "@jupyter-widgets/controls",
            "_model_module_version": "1.5.0",
            "_model_name": "ProgressStyleModel",
            "_view_count": null,
            "_view_module": "@jupyter-widgets/base",
            "_view_module_version": "1.2.0",
            "_view_name": "StyleView",
            "bar_color": null,
            "description_width": ""
          }
        },
        "5e3a92f8d04d45698410b413e224eedf": {
          "model_module": "@jupyter-widgets/base",
          "model_name": "LayoutModel",
          "model_module_version": "1.2.0",
          "state": {
            "_model_module": "@jupyter-widgets/base",
            "_model_module_version": "1.2.0",
            "_model_name": "LayoutModel",
            "_view_count": null,
            "_view_module": "@jupyter-widgets/base",
            "_view_module_version": "1.2.0",
            "_view_name": "LayoutView",
            "align_content": null,
            "align_items": null,
            "align_self": null,
            "border": null,
            "bottom": null,
            "display": null,
            "flex": null,
            "flex_flow": null,
            "grid_area": null,
            "grid_auto_columns": null,
            "grid_auto_flow": null,
            "grid_auto_rows": null,
            "grid_column": null,
            "grid_gap": null,
            "grid_row": null,
            "grid_template_areas": null,
            "grid_template_columns": null,
            "grid_template_rows": null,
            "height": null,
            "justify_content": null,
            "justify_items": null,
            "left": null,
            "margin": null,
            "max_height": null,
            "max_width": null,
            "min_height": null,
            "min_width": null,
            "object_fit": null,
            "object_position": null,
            "order": null,
            "overflow": null,
            "overflow_x": null,
            "overflow_y": null,
            "padding": null,
            "right": null,
            "top": null,
            "visibility": null,
            "width": null
          }
        },
        "d3dd1c9402b0414483d027cbabe51be9": {
          "model_module": "@jupyter-widgets/controls",
          "model_name": "DescriptionStyleModel",
          "model_module_version": "1.5.0",
          "state": {
            "_model_module": "@jupyter-widgets/controls",
            "_model_module_version": "1.5.0",
            "_model_name": "DescriptionStyleModel",
            "_view_count": null,
            "_view_module": "@jupyter-widgets/base",
            "_view_module_version": "1.2.0",
            "_view_name": "StyleView",
            "description_width": ""
          }
        }
      }
    }
  },
  "nbformat": 4,
  "nbformat_minor": 5
}